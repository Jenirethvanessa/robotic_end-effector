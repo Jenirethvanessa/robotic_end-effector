{
 "cells": [
  {
   "cell_type": "code",
   "execution_count": 12,
   "id": "6011968f-c519-45bb-bc9c-d5a8bb7c7fda",
   "metadata": {},
   "outputs": [],
   "source": [
    "import matplotlib.pyplot as plt\n",
    "import numpy as np"
   ]
  },
  {
   "cell_type": "code",
   "execution_count": 15,
   "id": "e3437f43-e74d-4f7d-8ed4-dad06bc0a2dd",
   "metadata": {},
   "outputs": [],
   "source": [
    "weights = [0 ,120, 150, 200, 250, 300, 350, 400, 450, 500, 550, 600, 650, 700, 750, 800, 900, 1000]\n",
    "value = [0, 140, 300, 580, 640, 740, 770, 800, 870, 880, 890, 900, 905, 915, 927, 925, 935, 945]\n",
    "normalized_value = [x / 1023 * 5 for x in value]\n",
    "\n",
    "x = weights\n",
    "y = normalized_value\n",
    "xvals = \n",
    "yinterp = np.interp(xvals, x, y)"
   ]
  },
  {
   "cell_type": "code",
   "execution_count": 16,
   "id": "fae6a231-4566-4730-adcd-2a782bcea783",
   "metadata": {},
   "outputs": [
    {
     "data": {
      "text/plain": [
       "[<matplotlib.lines.Line2D at 0x18cc68e7340>]"
      ]
     },
     "execution_count": 16,
     "metadata": {},
     "output_type": "execute_result"
    },
    {
     "data": {
      "image/png": "[encoded data removed]",
      "text/plain": [
       "<Figure size 432x288 with 1 Axes>"
      ]
     },
     "metadata": {
      "needs_background": "light"
     },
     "output_type": "display_data"
    }
   ],
   "source": [
    "plt.plot(weights, normalized_value)"
   ]
  },
  {
   "cell_type": "code",
   "execution_count": null,
   "id": "f82a892f-bf07-4784-835a-45bd060c3da3",
   "metadata": {},
   "outputs": [],
   "source": []
  }
 ],
 "metadata": {
  "kernelspec": {
   "display_name": "Python 3 (ipykernel)",
   "language": "python",
   "name": "python3"
  },
  "language_info": {
   "codemirror_mode": {
    "name": "ipython",
    "version": 3
   },
   "file_extension": ".py",
   "mimetype": "text/x-python",
   "name": "python",
   "nbconvert_exporter": "python",
   "pygments_lexer": "ipython3",
   "version": "3.9.6"
  }
 },
 "nbformat": 4,
 "nbformat_minor": 5
}
