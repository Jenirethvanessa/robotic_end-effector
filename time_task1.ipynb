{
 "cells": [
  {
   "cell_type": "code",
   "execution_count": 28,
   "id": "61adefb5-e87a-4f0f-96b8-044df21e3438",
   "metadata": {},
   "outputs": [],
   "source": [
    "import pandas as pd\n",
    "import matplotlib.pyplot as plt\n",
    "import time\n",
    "import datetime"
   ]
  },
  {
   "cell_type": "code",
   "execution_count": 44,
   "id": "b9156ff9-c6c1-421d-bd6b-4d05ae5d8dac",
   "metadata": {},
   "outputs": [],
   "source": [
    "subject001_experiment1_1 = pd.read_csv(\"time_person_002_exp_1_trial_1.csv\", encoding=\"latin\", header=None, names=[\"state\", \"time\"])"
   ]
  },
  {
   "cell_type": "code",
   "execution_count": 45,
   "id": "a77fd236-b777-459f-8d83-f3b3a76bed8f",
   "metadata": {},
   "outputs": [
    {
     "name": "stdout",
     "output_type": "stream",
     "text": [
      "   state          time\n",
      "0  close  1.691765e+09\n",
      "1   down  1.691765e+09\n",
      "2  close  1.691765e+09\n",
      "3   down  1.691765e+09\n",
      "4  close  1.691765e+09\n",
      "5   down  1.691765e+09\n",
      "6  close  1.691765e+09\n",
      "7   down  1.691765e+09\n",
      "8  close  1.691765e+09\n",
      "9   down  1.691765e+09\n"
     ]
    }
   ],
   "source": [
    "print(subject001_experiment1_1)"
   ]
  },
  {
   "cell_type": "code",
   "execution_count": 46,
   "id": "3c0a0365-a2f6-4fbc-a636-0a0a81fc5a80",
   "metadata": {},
   "outputs": [
    {
     "name": "stdout",
     "output_type": "stream",
     "text": [
      "1691764894.192949\n"
     ]
    }
   ],
   "source": [
    "print(subject001_experiment1_1[\"time\"][0])"
   ]
  },
  {
   "cell_type": "code",
   "execution_count": 47,
   "id": "73e470f2-b6e7-4c1e-9745-be53263bb16d",
   "metadata": {},
   "outputs": [
    {
     "name": "stdout",
     "output_type": "stream",
     "text": [
      "15:41:34.192\n",
      "15:41:44.549\n",
      "15:41:47.350\n",
      "15:41:59.693\n",
      "15:42:02.346\n",
      "15:42:12.819\n",
      "15:42:15.615\n",
      "15:42:26.444\n",
      "15:42:29.508\n",
      "15:42:41.044\n"
     ]
    }
   ],
   "source": [
    "for i in range(len(subject001_experiment1_1[\"time\"])):\n",
    "    timestamp_seconds = int(subject001_experiment1_1[\"time\"][i])  # Extract the integer part as seconds\n",
    "    timestamp_milliseconds = int((subject001_experiment1_1[\"time\"][i] - timestamp_seconds) * 1000)  # Extract the fractional part as milliseconds\n",
    "    \n",
    "    # Convert the Unix timestamp to a datetime object\n",
    "    dt_object = datetime.datetime.fromtimestamp(timestamp_seconds)\n",
    "    \n",
    "    # Extract the time from the datetime object and format it as a string\n",
    "    formatted_time = dt_object.strftime('%H:%M:%S') \n",
    "    formatted_time_with_milliseconds = f'{formatted_time}.{timestamp_milliseconds:03d}'\n",
    "    \n",
    "    print(formatted_time_with_milliseconds)"
   ]
  },
  {
   "cell_type": "code",
   "execution_count": null,
   "id": "b43661c7-acf0-44a7-b0ce-17f4613df5fb",
   "metadata": {},
   "outputs": [],
   "source": []
  },
  {
   "cell_type": "code",
   "execution_count": null,
   "id": "e8429102-2fc5-4aa8-a8f7-b176220a674e",
   "metadata": {},
   "outputs": [],
   "source": []
  }
 ],
 "metadata": {
  "kernelspec": {
   "display_name": "Python 3.9.6 64-bit",
   "language": "python",
   "name": "python3"
  },
  "language_info": {
   "codemirror_mode": {
    "name": "ipython",
    "version": 3
   },
   "file_extension": ".py",
   "mimetype": "text/x-python",
   "name": "python",
   "nbconvert_exporter": "python",
   "pygments_lexer": "ipython3",
   "version": "3.9.6"
  },
  "vscode": {
   "interpreter": {
    "hash": "81794d4967e6c3204c66dcd87b604927b115b27c00565d3d43f05ba2f3a2cb0d"
   }
  }
 },
 "nbformat": 4,
 "nbformat_minor": 5
}
