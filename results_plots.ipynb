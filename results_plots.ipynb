{
 "cells": [
  {
   "cell_type": "code",
   "execution_count": 31,
   "id": "4678a20a-846f-4025-bf6e-be3c7d6a21a0",
   "metadata": {},
   "outputs": [],
   "source": [
    "import pandas as pd\n",
    "import matplotlib.pyplot as plt\n",
    "import seaborn as sns\n",
    "import numpy as np\n"
   ]
  },
  {
   "cell_type": "code",
   "execution_count": 32,
   "id": "7ec6fee3-a2ae-452a-a591-47e0c4338225",
   "metadata": {},
   "outputs": [
    {
     "data": {
      "text/html": [
       "<div>\n",
       "<style scoped>\n",
       "    .dataframe tbody tr th:only-of-type {\n",
       "        vertical-align: middle;\n",
       "    }\n",
       "\n",
       "    .dataframe tbody tr th {\n",
       "        vertical-align: top;\n",
       "    }\n",
       "\n",
       "    .dataframe thead th {\n",
       "        text-align: right;\n",
       "    }\n",
       "</style>\n",
       "<table border=\"1\" class=\"dataframe\">\n",
       "  <thead>\n",
       "    <tr style=\"text-align: right;\">\n",
       "      <th></th>\n",
       "      <th>demog1</th>\n",
       "      <th>demog2</th>\n",
       "      <th>demog3</th>\n",
       "      <th>demog4</th>\n",
       "      <th>demog5</th>\n",
       "      <th>demog6</th>\n",
       "      <th>demog7</th>\n",
       "      <th>demog8</th>\n",
       "      <th>manual_needle1</th>\n",
       "      <th>manual_needle2</th>\n",
       "      <th>...</th>\n",
       "      <th>forceps2</th>\n",
       "      <th>forceps3</th>\n",
       "      <th>forceps_feedback1</th>\n",
       "      <th>forceps_feedback2</th>\n",
       "      <th>forceps_feedback3</th>\n",
       "      <th>forceps_feedback4.1</th>\n",
       "      <th>forceps_feedback4.2</th>\n",
       "      <th>forceps_feedback4.3</th>\n",
       "      <th>changing _instrument</th>\n",
       "      <th>forceps_xbox</th>\n",
       "    </tr>\n",
       "  </thead>\n",
       "  <tbody>\n",
       "    <tr>\n",
       "      <th>1</th>\n",
       "      <td>M</td>\n",
       "      <td>23</td>\n",
       "      <td>Y</td>\n",
       "      <td>Y</td>\n",
       "      <td>2</td>\n",
       "      <td>N</td>\n",
       "      <td>N</td>\n",
       "      <td>N</td>\n",
       "      <td>4</td>\n",
       "      <td>3</td>\n",
       "      <td>...</td>\n",
       "      <td>1</td>\n",
       "      <td>3</td>\n",
       "      <td>2</td>\n",
       "      <td>1</td>\n",
       "      <td>4</td>\n",
       "      <td>5</td>\n",
       "      <td>5</td>\n",
       "      <td>5</td>\n",
       "      <td>2</td>\n",
       "      <td>4</td>\n",
       "    </tr>\n",
       "    <tr>\n",
       "      <th>2</th>\n",
       "      <td>M</td>\n",
       "      <td>23</td>\n",
       "      <td>Y</td>\n",
       "      <td>Y</td>\n",
       "      <td>4</td>\n",
       "      <td>Y</td>\n",
       "      <td>N</td>\n",
       "      <td>N</td>\n",
       "      <td>4</td>\n",
       "      <td>3</td>\n",
       "      <td>...</td>\n",
       "      <td>4</td>\n",
       "      <td>3</td>\n",
       "      <td>3</td>\n",
       "      <td>2</td>\n",
       "      <td>3</td>\n",
       "      <td>3</td>\n",
       "      <td>5</td>\n",
       "      <td>5</td>\n",
       "      <td>1</td>\n",
       "      <td>4</td>\n",
       "    </tr>\n",
       "    <tr>\n",
       "      <th>3</th>\n",
       "      <td>M</td>\n",
       "      <td>31</td>\n",
       "      <td>Y</td>\n",
       "      <td>Y</td>\n",
       "      <td>1</td>\n",
       "      <td>N</td>\n",
       "      <td>N</td>\n",
       "      <td>N</td>\n",
       "      <td>2</td>\n",
       "      <td>3</td>\n",
       "      <td>...</td>\n",
       "      <td>1</td>\n",
       "      <td>2</td>\n",
       "      <td>1</td>\n",
       "      <td>1</td>\n",
       "      <td>5</td>\n",
       "      <td>5</td>\n",
       "      <td>5</td>\n",
       "      <td>5</td>\n",
       "      <td>1</td>\n",
       "      <td>5</td>\n",
       "    </tr>\n",
       "    <tr>\n",
       "      <th>4</th>\n",
       "      <td>M</td>\n",
       "      <td>36</td>\n",
       "      <td>Y</td>\n",
       "      <td>Y</td>\n",
       "      <td>4</td>\n",
       "      <td>N</td>\n",
       "      <td>N</td>\n",
       "      <td>N</td>\n",
       "      <td>3</td>\n",
       "      <td>4</td>\n",
       "      <td>...</td>\n",
       "      <td>2</td>\n",
       "      <td>2</td>\n",
       "      <td>2</td>\n",
       "      <td>3</td>\n",
       "      <td>3</td>\n",
       "      <td>4</td>\n",
       "      <td>4</td>\n",
       "      <td>4</td>\n",
       "      <td>3</td>\n",
       "      <td>2</td>\n",
       "    </tr>\n",
       "    <tr>\n",
       "      <th>5</th>\n",
       "      <td>M</td>\n",
       "      <td>27</td>\n",
       "      <td>Y</td>\n",
       "      <td>N</td>\n",
       "      <td>4</td>\n",
       "      <td>N</td>\n",
       "      <td>N</td>\n",
       "      <td>N</td>\n",
       "      <td>3</td>\n",
       "      <td>4</td>\n",
       "      <td>...</td>\n",
       "      <td>1</td>\n",
       "      <td>2</td>\n",
       "      <td>2</td>\n",
       "      <td>1</td>\n",
       "      <td>5</td>\n",
       "      <td>5</td>\n",
       "      <td>5</td>\n",
       "      <td>5</td>\n",
       "      <td>1</td>\n",
       "      <td>5</td>\n",
       "    </tr>\n",
       "  </tbody>\n",
       "</table>\n",
       "<p>5 rows × 29 columns</p>\n",
       "</div>"
      ],
      "text/plain": [
       "0 demog1 demog2 demog3 demog4 demog5 demog6 demog7 demog8 manual_needle1  \\\n",
       "1      M     23      Y      Y      2      N      N      N              4   \n",
       "2      M     23      Y      Y      4      Y      N      N              4   \n",
       "3      M     31      Y      Y      1      N      N      N              2   \n",
       "4      M     36      Y      Y      4      N      N      N              3   \n",
       "5      M     27      Y      N      4      N      N      N              3   \n",
       "\n",
       "0 manual_needle2  ... forceps2 forceps3 forceps_feedback1 forceps_feedback2  \\\n",
       "1              3  ...        1        3                 2                 1   \n",
       "2              3  ...        4        3                 3                 2   \n",
       "3              3  ...        1        2                 1                 1   \n",
       "4              4  ...        2        2                 2                 3   \n",
       "5              4  ...        1        2                 2                 1   \n",
       "\n",
       "0 forceps_feedback3 forceps_feedback4.1 forceps_feedback4.2  \\\n",
       "1                 4                   5                   5   \n",
       "2                 3                   3                   5   \n",
       "3                 5                   5                   5   \n",
       "4                 3                   4                   4   \n",
       "5                 5                   5                   5   \n",
       "\n",
       "0 forceps_feedback4.3 changing _instrument forceps_xbox  \n",
       "1                   5                    2            4  \n",
       "2                   5                    1            4  \n",
       "3                   5                    1            5  \n",
       "4                   4                    3            2  \n",
       "5                   5                    1            5  \n",
       "\n",
       "[5 rows x 29 columns]"
      ]
     },
     "execution_count": 32,
     "metadata": {},
     "output_type": "execute_result"
    }
   ],
   "source": [
    "df = pd.read_excel(\"Results.xlsx\", header=None)\n",
    "df = df.loc[1:,list(range(12))].set_index(0).T\n",
    "df.head()"
   ]
  },
  {
   "cell_type": "code",
   "execution_count": 33,
   "id": "8ff5f03a-a1c2-400f-8e4f-1c9f3ce2ce2a",
   "metadata": {},
   "outputs": [],
   "source": [
    "def plot_question(df, variable, title, categories):\n",
    "    df = df.copy()\n",
    "    \n",
    "    value_map = {i: v for i, v in enumerate(categories, 1)}\n",
    "    df[variable] = pd.Categorical(df[variable].map(value_map), categories)\n",
    "    by_change = df.groupby(variable)[[\"demog1\"]].count().reset_index().rename(columns={\"demog1\": \"count\"})\n",
    "    \n",
    "    plt.bar(by_change[variable], by_change[\"count\"])\n",
    "    plt.yticks(range(by_change[\"count\"].max()+ 1))\n",
    "    # plt.xticks(categories)\n",
    "    plt.ylabel(\"N. Participants\")\n",
    "    plt.title(title)\n",
    "    plt.show()"
   ]
  },
  {
   "cell_type": "code",
   "execution_count": 34,
   "id": "3f02fc78-d5e3-45b2-a3c4-447da5ca4bd3",
   "metadata": {},
   "outputs": [],
   "source": [
    "def plot_two_questions(df, first_variable, first_name, second_variable, second_name, categories, title):\n",
    "\n",
    "    value_map = {i: v for i, v in enumerate(categories, 1)}\n",
    "    data = df.copy()\n",
    "    \n",
    "    by_change = None\n",
    "    for col, new_name in ((first_variable, first_name), (second_variable, second_name)):\n",
    "        data[col] = pd.Categorical(data[col].map(value_map), categories)\n",
    "        this_df = data.groupby(col)[[\"demog1\"]].count().rename(columns={\"demog1\": new_name})\n",
    "        if by_change is None:\n",
    "            by_change = this_df\n",
    "            by_change.index.name = \"response\"\n",
    "        else:\n",
    "            by_change[new_name] = this_df[new_name]\n",
    "    \n",
    "    by_change = by_change.reset_index().melt(id_vars=\"response\", value_vars=[first_name, second_name], var_name=\"experiment\")\n",
    "    \n",
    "    sns.barplot(by_change, x=\"response\", y=\"value\", hue=\"experiment\")\n",
    "    plt.legend()\n",
    "    plt.title(title)\n",
    "    plt.ylabel(\"N. Participants\")\n",
    "    plt.xlabel(\"\")\n",
    "    plt.show()"
   ]
  },
  {
   "cell_type": "code",
   "execution_count": 35,
   "id": "14966e63-1934-44f4-8505-ad1d47b970e0",
   "metadata": {},
   "outputs": [
    {
     "data": {
      "image/png": "[encoded data removed]",
      "text/plain": [
       "<Figure size 432x288 with 1 Axes>"
      ]
     },
     "metadata": {
      "needs_background": "light"
     },
     "output_type": "display_data"
    }
   ],
   "source": [
    "categories = [\"Very Easy\", \"Easy\", \"Ok\", \"Hard\", \"Very Hard\"]\n",
    "plot_question(df, variable=\"changing _instrument\", title=\"How difficult was to change the instrument?\", categories = categories)"
   ]
  },
  {
   "cell_type": "code",
   "execution_count": 36,
   "id": "0b27b23f-f634-4148-bcca-ddb3953701ba",
   "metadata": {},
   "outputs": [
    {
     "ename": "TypeError",
     "evalue": "plot_question() missing 1 required positional argument: 'categories'",
     "output_type": "error",
     "traceback": [
      "\u001b[1;31m---------------------------------------------------------------------------\u001b[0m",
      "\u001b[1;31mTypeError\u001b[0m                                 Traceback (most recent call last)",
      "\u001b[1;32m~\\AppData\\Local\\Temp\\ipykernel_14736\\3244840330.py\u001b[0m in \u001b[0;36m<module>\u001b[1;34m\u001b[0m\n\u001b[1;32m----> 1\u001b[1;33m \u001b[0mplot_question\u001b[0m\u001b[1;33m(\u001b[0m\u001b[0mdf\u001b[0m\u001b[1;33m,\u001b[0m \u001b[0mvariable\u001b[0m \u001b[1;33m=\u001b[0m \u001b[1;34m\"manual_needle1\"\u001b[0m\u001b[1;33m,\u001b[0m \u001b[0mtitle\u001b[0m \u001b[1;33m=\u001b[0m \u001b[1;34m\"Physical effort\"\u001b[0m\u001b[1;33m)\u001b[0m\u001b[1;33m\u001b[0m\u001b[1;33m\u001b[0m\u001b[0m\n\u001b[0m",
      "\u001b[1;31mTypeError\u001b[0m: plot_question() missing 1 required positional argument: 'categories'"
     ]
    }
   ],
   "source": [
    "    \n",
    "plot_question(df, variable = \"manual_needle1\", title = \"Physical effort\")"
   ]
  },
  {
   "cell_type": "code",
   "execution_count": 37,
   "id": "6b2cd216-3f2f-4c36-bd8d-b7d7376a9d07",
   "metadata": {},
   "outputs": [
    {
     "ename": "TypeError",
     "evalue": "plot_question() missing 1 required positional argument: 'categories'",
     "output_type": "error",
     "traceback": [
      "\u001b[1;31m---------------------------------------------------------------------------\u001b[0m",
      "\u001b[1;31mTypeError\u001b[0m                                 Traceback (most recent call last)",
      "\u001b[1;32m~\\AppData\\Local\\Temp\\ipykernel_14736\\3566108347.py\u001b[0m in \u001b[0;36m<module>\u001b[1;34m\u001b[0m\n\u001b[1;32m----> 1\u001b[1;33m \u001b[0mplot_question\u001b[0m\u001b[1;33m(\u001b[0m\u001b[0mdf\u001b[0m\u001b[1;33m,\u001b[0m \u001b[0mvariable\u001b[0m \u001b[1;33m=\u001b[0m \u001b[1;34m\"needle1\"\u001b[0m\u001b[1;33m,\u001b[0m \u001b[0mtitle\u001b[0m \u001b[1;33m=\u001b[0m \u001b[1;34m\"Physical effort\"\u001b[0m\u001b[1;33m)\u001b[0m\u001b[1;33m\u001b[0m\u001b[1;33m\u001b[0m\u001b[0m\n\u001b[0m",
      "\u001b[1;31mTypeError\u001b[0m: plot_question() missing 1 required positional argument: 'categories'"
     ]
    }
   ],
   "source": [
    "plot_question(df, variable = \"needle1\", title = \"Physical effort\")"
   ]
  },
  {
   "cell_type": "code",
   "execution_count": 38,
   "id": "219e888a-4e36-479d-a6cc-7863a029ab2f",
   "metadata": {},
   "outputs": [
    {
     "ename": "NameError",
     "evalue": "name 'by_change' is not defined",
     "output_type": "error",
     "traceback": [
      "\u001b[1;31m---------------------------------------------------------------------------\u001b[0m",
      "\u001b[1;31mNameError\u001b[0m                                 Traceback (most recent call last)",
      "\u001b[1;32m~\\AppData\\Local\\Temp\\ipykernel_14736\\2129761974.py\u001b[0m in \u001b[0;36m<module>\u001b[1;34m\u001b[0m\n\u001b[1;32m----> 1\u001b[1;33m \u001b[0mby_change\u001b[0m\u001b[1;33m\u001b[0m\u001b[1;33m\u001b[0m\u001b[0m\n\u001b[0m",
      "\u001b[1;31mNameError\u001b[0m: name 'by_change' is not defined"
     ]
    }
   ],
   "source": [
    "by_change"
   ]
  },
  {
   "cell_type": "code",
   "execution_count": 39,
   "id": "3b9db214-ba94-4023-af50-c8802ad24709",
   "metadata": {},
   "outputs": [
    {
     "data": {
      "image/png": "[encoded data removed]",
      "text/plain": [
       "<Figure size 432x288 with 1 Axes>"
      ]
     },
     "metadata": {
      "needs_background": "light"
     },
     "output_type": "display_data"
    }
   ],
   "source": [
    "categories = [\"Very Little\", \"A Little\", \"Ok\", \"A lot\", \"Too Much\"]\n",
    "title = \"How much physical effort was required?\"\n",
    "plot_two_questions(df, first_variable=\"manual_needle1\", first_name=\"Human\", second_variable=\"needle1\", second_name=\"Robot\", categories = categories, title = title)"
   ]
  },
  {
   "cell_type": "code",
   "execution_count": 40,
   "id": "f079eb27-4d6b-4610-a03a-831515b74487",
   "metadata": {},
   "outputs": [
    {
     "data": {
      "image/png": "[encoded data removed]",
      "text/plain": [
       "<Figure size 432x288 with 1 Axes>"
      ]
     },
     "metadata": {
      "needs_background": "light"
     },
     "output_type": "display_data"
    }
   ],
   "source": [
    "categories = [\"Very Bad\", \"Bad\", \"Ok\", \"Well\", \"Very Well\"]\n",
    "title = \"How well did you manage to do the task?\"\n",
    "plot_two_questions(df, first_variable=\"manual_needle2\", first_name=\"Human\", second_variable=\"needle2\", second_name=\"Robot\",  categories = categories, title = title)"
   ]
  },
  {
   "cell_type": "code",
   "execution_count": 41,
   "id": "4a3337e9-d884-4d58-a211-9ab88c49b84d",
   "metadata": {},
   "outputs": [
    {
     "data": {
      "image/png": "[encoded data removed]",
      "text/plain": [
       "<Figure size 432x288 with 1 Axes>"
      ]
     },
     "metadata": {
      "needs_background": "light"
     },
     "output_type": "display_data"
    }
   ],
   "source": [
    "categories = [\"manual\", \"neither\", \"robot\"]\n",
    "def which_requires_more_effort(value):\n",
    "    if value > 0:\n",
    "        return categories[0]\n",
    "    elif value == 0:\n",
    "        return categories[1]\n",
    "    else:\n",
    "        return categories[2]\n",
    "\n",
    "df[\"more_effort\"] = (df[\"manual_needle1\"] - df[\"needle1\"]).apply(which_requires_more_effort)\n",
    "\n",
    "by_effort = df.groupby(\"more_effort\")[[\"demog1\"]].count().reset_index().rename(columns={\"demog1\": \"count\"})\n",
    "plt.bar(by_effort[\"more_effort\"], by_effort[\"count\"])\n",
    "plt.yticks(range(11))\n",
    "plt.xticks(categories)\n",
    "plt.ylabel(\"N. Participants\")\n",
    "plt.title(\"Which one requires the most physical effort?\")\n",
    "plt.show()"
   ]
  },
  {
   "cell_type": "code",
   "execution_count": 42,
   "id": "486b80ba-68f0-4519-9c76-44023509ba86",
   "metadata": {},
   "outputs": [
    {
     "data": {
      "image/png": "[encoded data removed]",
      "text/plain": [
       "<Figure size 432x288 with 1 Axes>"
      ]
     },
     "metadata": {
      "needs_background": "light"
     },
     "output_type": "display_data"
    }
   ],
   "source": [
    "categories = [\"manual\", \"neither\", \"robot\"]\n",
    "def which_requires_more_effort(value):\n",
    "    if value > 0:\n",
    "        return categories[0]\n",
    "    elif value == 0:\n",
    "        return categories[1]\n",
    "    else:\n",
    "        return categories[2]\n",
    "\n",
    "df[\"effectivity\"] = (df[\"manual_needle2\"] - df[\"needle2\"]).apply(which_requires_more_effort)\n",
    "df[\"effectivity\"] = pd.Categorical(df[\"effectivity\"], categories)\n",
    "\n",
    "by_effort = df.groupby(\"effectivity\")[[\"demog1\"]].count().reset_index().rename(columns={\"demog1\": \"count\"})\n",
    "plt.bar(by_effort[\"effectivity\"], by_effort[\"count\"])\n",
    "plt.yticks(range(11))\n",
    "plt.xticks(categories)\n",
    "plt.ylabel(\"N. Participants\")\n",
    "plt.title(\"Which provided the best performance?\")\n",
    "plt.show()"
   ]
  },
  {
   "cell_type": "code",
   "execution_count": 43,
   "id": "57b857d8-2ed5-4b16-b590-5a1d7bbeebec",
   "metadata": {},
   "outputs": [
    {
     "data": {
      "text/plain": [
       "[]"
      ]
     },
     "execution_count": 43,
     "metadata": {},
     "output_type": "execute_result"
    },
    {
     "data": {
      "image/png": "[encoded data removed]",
      "text/plain": [
       "<Figure size 432x288 with 1 Axes>"
      ]
     },
     "metadata": {
      "needs_background": "light"
     },
     "output_type": "display_data"
    }
   ],
   "source": [
    "plt.hist(df[\"changing _instrument\"])\n",
    "plt.yticks(range(9))\n",
    "plt.xticks(range(1,4))\n",
    "plt.plot()"
   ]
  },
  {
   "cell_type": "code",
   "execution_count": 44,
   "id": "e634b456-cab9-42a3-92e9-81a71ef978d9",
   "metadata": {},
   "outputs": [
    {
     "ename": "NameError",
     "evalue": "name 'manual_needle' is not defined",
     "output_type": "error",
     "traceback": [
      "\u001b[1;31m---------------------------------------------------------------------------\u001b[0m",
      "\u001b[1;31mNameError\u001b[0m                                 Traceback (most recent call last)",
      "\u001b[1;32m~\\AppData\\Local\\Temp\\ipykernel_14736\\3761113731.py\u001b[0m in \u001b[0;36m<module>\u001b[1;34m\u001b[0m\n\u001b[1;32m----> 1\u001b[1;33m \u001b[0mmanual_needle\u001b[0m\u001b[1;33m[\u001b[0m\u001b[1;36m1\u001b[0m\u001b[1;33m:\u001b[0m\u001b[1;36m7\u001b[0m\u001b[1;33m]\u001b[0m\u001b[1;33m\u001b[0m\u001b[1;33m\u001b[0m\u001b[0m\n\u001b[0m",
      "\u001b[1;31mNameError\u001b[0m: name 'manual_needle' is not defined"
     ]
    }
   ],
   "source": [
    "manual_needle[1:7]"
   ]
  },
  {
   "cell_type": "code",
   "execution_count": null,
   "id": "001d5e40-c022-4e3f-bf29-4a50ee41378b",
   "metadata": {},
   "outputs": [],
   "source": []
  },
  {
   "cell_type": "code",
   "execution_count": 45,
   "id": "6a8d4765-ac04-429c-8b29-add39078bcab",
   "metadata": {},
   "outputs": [
    {
     "data": {
      "text/html": [
       "<div>\n",
       "<style scoped>\n",
       "    .dataframe tbody tr th:only-of-type {\n",
       "        vertical-align: middle;\n",
       "    }\n",
       "\n",
       "    .dataframe tbody tr th {\n",
       "        vertical-align: top;\n",
       "    }\n",
       "\n",
       "    .dataframe thead th {\n",
       "        text-align: right;\n",
       "    }\n",
       "</style>\n",
       "<table border=\"1\" class=\"dataframe\">\n",
       "  <thead>\n",
       "    <tr style=\"text-align: right;\">\n",
       "      <th></th>\n",
       "      <th>category</th>\n",
       "      <th>value</th>\n",
       "    </tr>\n",
       "  </thead>\n",
       "  <tbody>\n",
       "    <tr>\n",
       "      <th>0</th>\n",
       "      <td>manual</td>\n",
       "      <td>12</td>\n",
       "    </tr>\n",
       "    <tr>\n",
       "      <th>1</th>\n",
       "      <td>manual</td>\n",
       "      <td>11</td>\n",
       "    </tr>\n",
       "    <tr>\n",
       "      <th>2</th>\n",
       "      <td>manual</td>\n",
       "      <td>12</td>\n",
       "    </tr>\n",
       "    <tr>\n",
       "      <th>3</th>\n",
       "      <td>manual</td>\n",
       "      <td>15</td>\n",
       "    </tr>\n",
       "    <tr>\n",
       "      <th>4</th>\n",
       "      <td>manual</td>\n",
       "      <td>11</td>\n",
       "    </tr>\n",
       "  </tbody>\n",
       "</table>\n",
       "</div>"
      ],
      "text/plain": [
       "  category  value\n",
       "0   manual     12\n",
       "1   manual     11\n",
       "2   manual     12\n",
       "3   manual     15\n",
       "4   manual     11"
      ]
     },
     "execution_count": 45,
     "metadata": {},
     "output_type": "execute_result"
    }
   ],
   "source": [
    "time_task1 = pd.read_excel(\"Results.xlsx\", sheet_name = \"Time_experiment1.1\")\n",
    "time_task1 = time_task1.set_index(\"Unnamed: 0\").T\n",
    "time_task1 = pd.melt(time_task1, value_vars=time_task1.columns, var_name=\"category\")\n",
    "time_task1.head()\n"
   ]
  },
  {
   "cell_type": "code",
   "execution_count": 46,
   "id": "b81bee58-b19a-4834-85d9-c6b65f46d6a3",
   "metadata": {},
   "outputs": [],
   "source": [
    "manual_value = []\n",
    "robot_value = []\n",
    "\n",
    "for index, row in time_task1.iterrows():\n",
    "    if row[\"category\"] == \"manual\":\n",
    "        manual_value.append(row[\"value\"])\n",
    "    else:\n",
    "        robot_value.append(row[\"value\"])"
   ]
  },
  {
   "cell_type": "code",
   "execution_count": 47,
   "id": "98bfccf4-fe50-4131-835c-625cd280f158",
   "metadata": {},
   "outputs": [
    {
     "data": {
      "image/png": "[encoded data removed]",
      "text/plain": [
       "<Figure size 252x252 with 1 Axes>"
      ]
     },
     "metadata": {
      "needs_background": "light"
     },
     "output_type": "display_data"
    }
   ],
   "source": [
    "plt.figure(figsize=(3.5, 3.5))\n",
    "plt.boxplot([manual_value, robot_value], labels=['Manual', 'Robotic hand'])\n",
    "\n",
    "plt.title('Duration of the task')\n",
    "plt.ylabel('Time (seconds)')\n",
    "plt.show()"
   ]
  },
  {
   "cell_type": "code",
   "execution_count": 48,
   "id": "87d1ef79-7406-4617-abc6-df79e64c3e81",
   "metadata": {},
   "outputs": [
    {
     "data": {
      "image/png": "[encoded data removed]",
      "text/plain": [
       "<Figure size 432x288 with 1 Axes>"
      ]
     },
     "metadata": {
      "needs_background": "light"
     },
     "output_type": "display_data"
    }
   ],
   "source": [
    "plt.hist(manual_value)\n",
    "plt.hist(robot_value)\n",
    "plt.show()"
   ]
  },
  {
   "cell_type": "markdown",
   "id": "68b4fed5-ed3a-45c0-9ecb-420edc353d25",
   "metadata": {},
   "source": [
    "# Task 2"
   ]
  },
  {
   "cell_type": "code",
   "execution_count": 49,
   "id": "5d1a4a52-67d3-4dd5-a35e-90107c3062c3",
   "metadata": {},
   "outputs": [
    {
     "data": {
      "image/png": "[encoded data removed]",
      "text/plain": [
       "<Figure size 432x288 with 1 Axes>"
      ]
     },
     "metadata": {
      "needs_background": "light"
     },
     "output_type": "display_data"
    }
   ],
   "source": [
    "categories = [\"Very Little\", \"A Little\", \"Ok\", \"A lot\", \"Too Much\"]\n",
    "title = \"How much physical effort was required?\"\n",
    "plot_two_questions(df, first_variable=\"forceps2\", first_name=\"without feedback\", second_variable=\"forceps_feedback2\", second_name=\"with feedback\", categories = categories, title = title)\n"
   ]
  },
  {
   "cell_type": "code",
   "execution_count": 50,
   "id": "7c5778b9-6640-40c5-bfbb-3eda2eaaf781",
   "metadata": {},
   "outputs": [
    {
     "data": {
      "image/png": "[encoded data removed]",
      "text/plain": [
       "<Figure size 432x288 with 1 Axes>"
      ]
     },
     "metadata": {
      "needs_background": "light"
     },
     "output_type": "display_data"
    }
   ],
   "source": [
    "categories = [\"Very Bad\", \"Bad\", \"Ok\", \"Well\", \"Very Well\"]\n",
    "title = \"How well did you manage to do the task?\"\n",
    "plot_two_questions(df, first_variable=\"forceps3\", first_name=\"without feedback\", second_variable=\"forceps_feedback3\", second_name=\"with feedback\",  categories = categories, title = title)"
   ]
  },
  {
   "cell_type": "code",
   "execution_count": 51,
   "id": "8ac1c512-2fe5-4735-bc7f-b28a5b6e2a5f",
   "metadata": {},
   "outputs": [
    {
     "data": {
      "image/png": "[encoded data removed]",
      "text/plain": [
       "<Figure size 432x288 with 1 Axes>"
      ]
     },
     "metadata": {
      "needs_background": "light"
     },
     "output_type": "display_data"
    }
   ],
   "source": [
    "categories = [\"Terrible\", \"Not intuitive\", \"Intuitive\", \"Very Intuitive\", \"Excelent\"]\n",
    "title = \"How intuitive was using the Xbox controller to control the movements?\"\n",
    "plot_two_questions(df, first_variable=\"needle_xbox\", first_name=\"Needle holder - Binary\", second_variable=\"forceps_xbox\", second_name=\"Forceps - Continuous\",  categories = categories, title = title)"
   ]
  },
  {
   "cell_type": "code",
   "execution_count": 52,
   "id": "c2147f13-f167-48d3-9de2-c12f09311f4f",
   "metadata": {},
   "outputs": [
    {
     "data": {
      "image/png": "[encoded data removed]",
      "text/plain": [
       "<Figure size 432x288 with 1 Axes>"
      ]
     },
     "metadata": {
      "needs_background": "light"
     },
     "output_type": "display_data"
    }
   ],
   "source": [
    "categories = [\"without feedback\", \"neither\", \"with feedback\"]\n",
    "def which_requires_more_effort(value):\n",
    "    if value > 0:\n",
    "        return categories[0]\n",
    "    elif value == 0:\n",
    "        return categories[1]\n",
    "    else:\n",
    "        return categories[2]\n",
    "\n",
    "df[\"more_effort\"] = (df[\"forceps2\"] - df[\"forceps_feedback2\"]).apply(which_requires_more_effort)\n",
    "df[\"more_effort\"] = pd.Categorical(df[\"more_effort\"], categories)\n",
    "\n",
    "by_effort = df.groupby(\"more_effort\")[[\"demog1\"]].count().reset_index().rename(columns={\"demog1\": \"count\"})\n",
    "plt.bar(by_effort[\"more_effort\"], by_effort[\"count\"])\n",
    "plt.yticks(range(7))\n",
    "plt.xticks(categories)\n",
    "plt.ylabel(\"N. Participants\")\n",
    "plt.title(\"Which one requires the most physical effort?\")\n",
    "plt.show()"
   ]
  },
  {
   "cell_type": "code",
   "execution_count": 53,
   "id": "6f6d81a9-96a5-4c1b-ba19-5ababec2d79b",
   "metadata": {},
   "outputs": [
    {
     "data": {
      "image/png": "[encoded data removed]",
      "text/plain": [
       "<Figure size 432x288 with 1 Axes>"
      ]
     },
     "metadata": {
      "needs_background": "light"
     },
     "output_type": "display_data"
    }
   ],
   "source": [
    "categories = [\"without feedback\", \"neither\", \"with feedback\"]\n",
    "def which_requires_more_effort(value):\n",
    "    if value > 0:\n",
    "        return categories[0]\n",
    "    elif value == 0:\n",
    "        return categories[1]\n",
    "    else:\n",
    "        return categories[2]\n",
    "\n",
    "df[\"effectivity\"] = (df[\"forceps3\"] - df[\"forceps_feedback3\"]).apply(which_requires_more_effort)\n",
    "df[\"effectivity\"] = pd.Categorical(df[\"effectivity\"], categories)\n",
    "\n",
    "by_effort = df.groupby(\"effectivity\")[[\"demog1\"]].count().reset_index().rename(columns={\"demog1\": \"count\"})\n",
    "plt.bar(by_effort[\"effectivity\"], by_effort[\"count\"])\n",
    "plt.yticks(range(7))\n",
    "plt.xticks(categories)\n",
    "plt.ylabel(\"N. Participants\")\n",
    "plt.title(\"Which provided the best performance?\")\n",
    "plt.show()"
   ]
  },
  {
   "cell_type": "code",
   "execution_count": 54,
   "id": "780f6286-e5c9-4d75-a80a-df5aca02ba3b",
   "metadata": {},
   "outputs": [
    {
     "data": {
      "image/png": "[encoded data removed]",
      "text/plain": [
       "<Figure size 432x288 with 1 Axes>"
      ]
     },
     "metadata": {
      "needs_background": "light"
     },
     "output_type": "display_data"
    }
   ],
   "source": [
    "categories = [\"Human\", \"Robot\"]\n",
    "plot_question(df, variable=\"comparison2\", title=\"Which method required more physical effort?\", categories = categories)"
   ]
  },
  {
   "cell_type": "code",
   "execution_count": 55,
   "id": "f64b9e85-1a2e-4e67-a581-389fd453fe2b",
   "metadata": {},
   "outputs": [
    {
     "data": {
      "image/png": "[encoded data removed]",
      "text/plain": [
       "<Figure size 432x288 with 1 Axes>"
      ]
     },
     "metadata": {
      "needs_background": "light"
     },
     "output_type": "display_data"
    }
   ],
   "source": [
    "categories = [\"Human\", \"Robot\"]\n",
    "plot_question(df, variable=\"comparison3\", title=\"Which method was more comfortable to use?\", categories = categories)"
   ]
  },
  {
   "cell_type": "code",
   "execution_count": 56,
   "id": "18097eb7-d3df-4e09-a26b-20acb344bfe7",
   "metadata": {},
   "outputs": [
    {
     "data": {
      "image/png": "[encoded data removed]",
      "text/plain": [
       "<Figure size 432x288 with 1 Axes>"
      ]
     },
     "metadata": {
      "needs_background": "light"
     },
     "output_type": "display_data"
    }
   ],
   "source": [
    "categories = [\"1\", \"2\", \"3\", \"4\", \"5\"]\n",
    "plot_question(df, variable=\"forceps_feedback4.1\", title=\"\", categories = categories)"
   ]
  },
  {
   "cell_type": "code",
   "execution_count": 57,
   "id": "db6e8ae5-9a31-4c3d-a0cd-ab4e876f1bb5",
   "metadata": {},
   "outputs": [
    {
     "data": {
      "image/png": "[encoded data removed]",
      "text/plain": [
       "<Figure size 432x288 with 1 Axes>"
      ]
     },
     "metadata": {
      "needs_background": "light"
     },
     "output_type": "display_data"
    }
   ],
   "source": [
    "categories = [\"1\", \"2\", \"3\", \"4\", \"5\"]\n",
    "plot_question(df, variable=\"forceps_feedback4.2\", title=\"\", categories = categories)"
   ]
  },
  {
   "cell_type": "code",
   "execution_count": 58,
   "id": "3a9c8efd-f853-483f-9abe-03091c0cabf3",
   "metadata": {},
   "outputs": [
    {
     "data": {
      "image/png": "[encoded data removed]",
      "text/plain": [
       "<Figure size 432x288 with 1 Axes>"
      ]
     },
     "metadata": {
      "needs_background": "light"
     },
     "output_type": "display_data"
    }
   ],
   "source": [
    "categories = [\"1\", \"2\", \"3\", \"4\", \"5\"]\n",
    "plot_question(df, variable=\"forceps_feedback4.3\", title=\"\", categories = categories)"
   ]
  },
  {
   "cell_type": "code",
   "execution_count": null,
   "id": "ec1b8d06-e5f1-41fa-8c31-bfae74e8b7ed",
   "metadata": {},
   "outputs": [],
   "source": []
  },
  {
   "cell_type": "code",
   "execution_count": null,
   "id": "8635673c-8b77-4337-87b3-397232dcef93",
   "metadata": {},
   "outputs": [],
   "source": []
  },
  {
   "cell_type": "code",
   "execution_count": null,
   "id": "9bbac834-8353-4707-ba66-2176dea74b32",
   "metadata": {},
   "outputs": [],
   "source": []
  }
 ],
 "metadata": {
  "kernelspec": {
   "display_name": "Python 3 (ipykernel)",
   "language": "python",
   "name": "python3"
  },
  "language_info": {
   "codemirror_mode": {
    "name": "ipython",
    "version": 3
   },
   "file_extension": ".py",
   "mimetype": "text/x-python",
   "name": "python",
   "nbconvert_exporter": "python",
   "pygments_lexer": "ipython3",
   "version": "3.9.6"
  }
 },
 "nbformat": 4,
 "nbformat_minor": 5
}
