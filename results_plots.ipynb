{
 "cells": [
  {
   "cell_type": "code",
   "execution_count": 43,
   "id": "4678a20a-846f-4025-bf6e-be3c7d6a21a0",
   "metadata": {},
   "outputs": [],
   "source": [
    "import pandas as pd\n",
    "import matplotlib.pyplot as plt\n",
    "import seaborn as sb\n",
    "import numpy as np"
   ]
  },
  {
   "cell_type": "code",
   "execution_count": 44,
   "id": "7ec6fee3-a2ae-452a-a591-47e0c4338225",
   "metadata": {},
   "outputs": [
    {
     "data": {
      "text/html": [
       "<div>\n",
       "<style scoped>\n",
       "    .dataframe tbody tr th:only-of-type {\n",
       "        vertical-align: middle;\n",
       "    }\n",
       "\n",
       "    .dataframe tbody tr th {\n",
       "        vertical-align: top;\n",
       "    }\n",
       "\n",
       "    .dataframe thead th {\n",
       "        text-align: right;\n",
       "    }\n",
       "</style>\n",
       "<table border=\"1\" class=\"dataframe\">\n",
       "  <thead>\n",
       "    <tr style=\"text-align: right;\">\n",
       "      <th></th>\n",
       "      <th>demog1</th>\n",
       "      <th>demog2</th>\n",
       "      <th>demog3</th>\n",
       "      <th>demog4</th>\n",
       "      <th>demog5</th>\n",
       "      <th>demog6</th>\n",
       "      <th>demog7</th>\n",
       "      <th>demog8</th>\n",
       "      <th>manual_needle1</th>\n",
       "      <th>manual_needle2</th>\n",
       "      <th>...</th>\n",
       "      <th>forceps2</th>\n",
       "      <th>forceps3</th>\n",
       "      <th>forceps_feedback1</th>\n",
       "      <th>forceps_feedback2</th>\n",
       "      <th>forceps_feedback3</th>\n",
       "      <th>forceps_feedback4.1</th>\n",
       "      <th>forceps_feedback4.2</th>\n",
       "      <th>forceps_feedback4.3</th>\n",
       "      <th>changing _instrument</th>\n",
       "      <th>forceps_xbox</th>\n",
       "    </tr>\n",
       "  </thead>\n",
       "  <tbody>\n",
       "    <tr>\n",
       "      <th>1</th>\n",
       "      <td>M</td>\n",
       "      <td>23</td>\n",
       "      <td>Y</td>\n",
       "      <td>Y</td>\n",
       "      <td>2</td>\n",
       "      <td>N</td>\n",
       "      <td>N</td>\n",
       "      <td>N</td>\n",
       "      <td>4</td>\n",
       "      <td>3</td>\n",
       "      <td>...</td>\n",
       "      <td>1</td>\n",
       "      <td>3</td>\n",
       "      <td>2</td>\n",
       "      <td>1</td>\n",
       "      <td>4</td>\n",
       "      <td>5</td>\n",
       "      <td>5</td>\n",
       "      <td>5</td>\n",
       "      <td>2</td>\n",
       "      <td>4</td>\n",
       "    </tr>\n",
       "    <tr>\n",
       "      <th>2</th>\n",
       "      <td>M</td>\n",
       "      <td>23</td>\n",
       "      <td>Y</td>\n",
       "      <td>Y</td>\n",
       "      <td>4</td>\n",
       "      <td>Y</td>\n",
       "      <td>N</td>\n",
       "      <td>N</td>\n",
       "      <td>4</td>\n",
       "      <td>3</td>\n",
       "      <td>...</td>\n",
       "      <td>4</td>\n",
       "      <td>3</td>\n",
       "      <td>3</td>\n",
       "      <td>2</td>\n",
       "      <td>3</td>\n",
       "      <td>3</td>\n",
       "      <td>5</td>\n",
       "      <td>5</td>\n",
       "      <td>1</td>\n",
       "      <td>4</td>\n",
       "    </tr>\n",
       "    <tr>\n",
       "      <th>3</th>\n",
       "      <td>M</td>\n",
       "      <td>31</td>\n",
       "      <td>Y</td>\n",
       "      <td>Y</td>\n",
       "      <td>1</td>\n",
       "      <td>N</td>\n",
       "      <td>N</td>\n",
       "      <td>N</td>\n",
       "      <td>2</td>\n",
       "      <td>3</td>\n",
       "      <td>...</td>\n",
       "      <td>1</td>\n",
       "      <td>2</td>\n",
       "      <td>1</td>\n",
       "      <td>1</td>\n",
       "      <td>5</td>\n",
       "      <td>5</td>\n",
       "      <td>5</td>\n",
       "      <td>5</td>\n",
       "      <td>1</td>\n",
       "      <td>5</td>\n",
       "    </tr>\n",
       "    <tr>\n",
       "      <th>4</th>\n",
       "      <td>M</td>\n",
       "      <td>36</td>\n",
       "      <td>Y</td>\n",
       "      <td>Y</td>\n",
       "      <td>4</td>\n",
       "      <td>N</td>\n",
       "      <td>N</td>\n",
       "      <td>N</td>\n",
       "      <td>3</td>\n",
       "      <td>4</td>\n",
       "      <td>...</td>\n",
       "      <td>2</td>\n",
       "      <td>2</td>\n",
       "      <td>2</td>\n",
       "      <td>3</td>\n",
       "      <td>3</td>\n",
       "      <td>4</td>\n",
       "      <td>4</td>\n",
       "      <td>4</td>\n",
       "      <td>3</td>\n",
       "      <td>2</td>\n",
       "    </tr>\n",
       "    <tr>\n",
       "      <th>5</th>\n",
       "      <td>M</td>\n",
       "      <td>27</td>\n",
       "      <td>Y</td>\n",
       "      <td>N</td>\n",
       "      <td>4</td>\n",
       "      <td>N</td>\n",
       "      <td>N</td>\n",
       "      <td>N</td>\n",
       "      <td>3</td>\n",
       "      <td>4</td>\n",
       "      <td>...</td>\n",
       "      <td>1</td>\n",
       "      <td>2</td>\n",
       "      <td>2</td>\n",
       "      <td>1</td>\n",
       "      <td>5</td>\n",
       "      <td>5</td>\n",
       "      <td>5</td>\n",
       "      <td>5</td>\n",
       "      <td>1</td>\n",
       "      <td>5</td>\n",
       "    </tr>\n",
       "  </tbody>\n",
       "</table>\n",
       "<p>5 rows × 29 columns</p>\n",
       "</div>"
      ],
      "text/plain": [
       "0 demog1 demog2 demog3 demog4 demog5 demog6 demog7 demog8 manual_needle1  \\\n",
       "1      M     23      Y      Y      2      N      N      N              4   \n",
       "2      M     23      Y      Y      4      Y      N      N              4   \n",
       "3      M     31      Y      Y      1      N      N      N              2   \n",
       "4      M     36      Y      Y      4      N      N      N              3   \n",
       "5      M     27      Y      N      4      N      N      N              3   \n",
       "\n",
       "0 manual_needle2  ... forceps2 forceps3 forceps_feedback1 forceps_feedback2  \\\n",
       "1              3  ...        1        3                 2                 1   \n",
       "2              3  ...        4        3                 3                 2   \n",
       "3              3  ...        1        2                 1                 1   \n",
       "4              4  ...        2        2                 2                 3   \n",
       "5              4  ...        1        2                 2                 1   \n",
       "\n",
       "0 forceps_feedback3 forceps_feedback4.1 forceps_feedback4.2  \\\n",
       "1                 4                   5                   5   \n",
       "2                 3                   3                   5   \n",
       "3                 5                   5                   5   \n",
       "4                 3                   4                   4   \n",
       "5                 5                   5                   5   \n",
       "\n",
       "0 forceps_feedback4.3 changing _instrument forceps_xbox  \n",
       "1                   5                    2            4  \n",
       "2                   5                    1            4  \n",
       "3                   5                    1            5  \n",
       "4                   4                    3            2  \n",
       "5                   5                    1            5  \n",
       "\n",
       "[5 rows x 29 columns]"
      ]
     },
     "execution_count": 44,
     "metadata": {},
     "output_type": "execute_result"
    }
   ],
   "source": [
    "df = pd.read_excel(\"Results.xlsx\", header=None)\n",
    "df = df.loc[1:,list(range(11))].set_index(0).T\n",
    "df.head()"
   ]
  },
  {
   "cell_type": "code",
   "execution_count": 51,
   "id": "8ff5f03a-a1c2-400f-8e4f-1c9f3ce2ce2a",
   "metadata": {},
   "outputs": [],
   "source": [
    "def plot_question(variable, title):\n",
    "    by_change = df.groupby(variable)[[\"demog1\"]].count().reset_index().rename(columns={\"demog1\": \"count\"})\n",
    "    categories = [\"Very Easy\", \"Easy\", \"Ok\", \"Hard\", \"Very Hard\"]\n",
    "    value_map = {i: v for i, v in enumerate(categories, 1)}\n",
    "    by_change[\"category\"] = by_change[variable].map(value_map)\n",
    "    by_change[\"category\"] = pd.Categorical(by_change[\"category\"], categories)\n",
    "    \n",
    "    plt.bar(by_change[\"category\"], by_change[\"count\"])\n",
    "    plt.yticks(range(9))\n",
    "    plt.xticks(categories)\n",
    "    plt.ylabel(\"N. Participants\")\n",
    "    plt.title(title)\n",
    "    plt.show()"
   ]
  },
  {
   "cell_type": "code",
   "execution_count": 52,
   "id": "14966e63-1934-44f4-8505-ad1d47b970e0",
   "metadata": {},
   "outputs": [
    {
     "data": {
      "image/png": "[encoded data removed]",
      "text/plain": [
       "<Figure size 432x288 with 1 Axes>"
      ]
     },
     "metadata": {
      "needs_background": "light"
     },
     "output_type": "display_data"
    }
   ],
   "source": [
    "plot_question(variable = \"changing _instrument\", title = \"How difficult was to change the instrument?\")"
   ]
  },
  {
   "cell_type": "code",
   "execution_count": 53,
   "id": "0b27b23f-f634-4148-bcca-ddb3953701ba",
   "metadata": {},
   "outputs": [
    {
     "data": {
      "image/png": "[encoded data removed]",
      "text/plain": [
       "<Figure size 432x288 with 1 Axes>"
      ]
     },
     "metadata": {
      "needs_background": "light"
     },
     "output_type": "display_data"
    }
   ],
   "source": [
    "plot_question(variable = \"manual_needle1\", title = \"Physical effort\")"
   ]
  },
  {
   "cell_type": "code",
   "execution_count": 20,
   "id": "4a3337e9-d884-4d58-a211-9ab88c49b84d",
   "metadata": {},
   "outputs": [
    {
     "data": {
      "image/png": "[encoded data removed]",
      "text/plain": [
       "<Figure size 432x288 with 1 Axes>"
      ]
     },
     "metadata": {
      "needs_background": "light"
     },
     "output_type": "display_data"
    }
   ],
   "source": [
    "categories = [\"manual\", \"neither\", \"robot\"]\n",
    "def which_requires_more_effort(value):\n",
    "    if value > 0:\n",
    "        return categories[0]\n",
    "    elif value == 0:\n",
    "        return categories[1]\n",
    "    else:\n",
    "        return categories[2]\n",
    "\n",
    "df[\"more_effort\"] = (df[\"manual_needle1\"] - df[\"needle1\"]).apply(which_requires_more_effort)\n",
    "\n",
    "by_effort = df.groupby(\"more_effort\")[[\"demog1\"]].count().reset_index().rename(columns={\"demog1\": \"count\"})\n",
    "plt.bar(by_effort[\"more_effort\"], by_effort[\"count\"])\n",
    "plt.yticks(range(11))\n",
    "plt.xticks(categories)\n",
    "plt.ylabel(\"N. Participants\")\n",
    "plt.title(\"Which one requires the most physical effort?\")\n",
    "plt.show()"
   ]
  },
  {
   "cell_type": "code",
   "execution_count": 21,
   "id": "486b80ba-68f0-4519-9c76-44023509ba86",
   "metadata": {},
   "outputs": [
    {
     "data": {
      "image/png": "[encoded data removed]",
      "text/plain": [
       "<Figure size 432x288 with 1 Axes>"
      ]
     },
     "metadata": {
      "needs_background": "light"
     },
     "output_type": "display_data"
    }
   ],
   "source": [
    "categories = [\"manual\", \"neither\", \"robot\"]\n",
    "def which_requires_more_effort(value):\n",
    "    if value > 0:\n",
    "        return categories[0]\n",
    "    elif value == 0:\n",
    "        return categories[1]\n",
    "    else:\n",
    "        return categories[2]\n",
    "\n",
    "df[\"effectivity\"] = (df[\"manual_needle2\"] - df[\"needle2\"]).apply(which_requires_more_effort)\n",
    "df[\"effectivity\"] = pd.Categorical(df[\"effectivity\"], categories)\n",
    "\n",
    "by_effort = df.groupby(\"effectivity\")[[\"demog1\"]].count().reset_index().rename(columns={\"demog1\": \"count\"})\n",
    "plt.bar(by_effort[\"effectivity\"], by_effort[\"count\"])\n",
    "plt.yticks(range(11))\n",
    "plt.xticks(categories)\n",
    "plt.ylabel(\"N. Participants\")\n",
    "plt.title(\"Which provided the best performance?\")\n",
    "plt.show()"
   ]
  },
  {
   "cell_type": "code",
   "execution_count": 22,
   "id": "57b857d8-2ed5-4b16-b590-5a1d7bbeebec",
   "metadata": {},
   "outputs": [
    {
     "data": {
      "text/plain": [
       "[]"
      ]
     },
     "execution_count": 22,
     "metadata": {},
     "output_type": "execute_result"
    },
    {
     "data": {
      "image/png": "[encoded data removed]",
      "text/plain": [
       "<Figure size 432x288 with 1 Axes>"
      ]
     },
     "metadata": {
      "needs_background": "light"
     },
     "output_type": "display_data"
    }
   ],
   "source": [
    "plt.hist(df[\"changing _instrument\"])\n",
    "plt.yticks(range(9))\n",
    "plt.xticks(range(1,4))\n",
    "plt.plot()"
   ]
  },
  {
   "cell_type": "code",
   "execution_count": 23,
   "id": "e634b456-cab9-42a3-92e9-81a71ef978d9",
   "metadata": {},
   "outputs": [
    {
     "ename": "NameError",
     "evalue": "name 'manual_needle' is not defined",
     "output_type": "error",
     "traceback": [
      "\u001b[1;31m---------------------------------------------------------------------------\u001b[0m",
      "\u001b[1;31mNameError\u001b[0m                                 Traceback (most recent call last)",
      "\u001b[1;32m~\\AppData\\Local\\Temp\\ipykernel_14808\\3761113731.py\u001b[0m in \u001b[0;36m<module>\u001b[1;34m\u001b[0m\n\u001b[1;32m----> 1\u001b[1;33m \u001b[0mmanual_needle\u001b[0m\u001b[1;33m[\u001b[0m\u001b[1;36m1\u001b[0m\u001b[1;33m:\u001b[0m\u001b[1;36m7\u001b[0m\u001b[1;33m]\u001b[0m\u001b[1;33m\u001b[0m\u001b[1;33m\u001b[0m\u001b[0m\n\u001b[0m",
      "\u001b[1;31mNameError\u001b[0m: name 'manual_needle' is not defined"
     ]
    }
   ],
   "source": [
    "manual_needle[1:7]"
   ]
  },
  {
   "cell_type": "code",
   "execution_count": null,
   "id": "001d5e40-c022-4e3f-bf29-4a50ee41378b",
   "metadata": {},
   "outputs": [],
   "source": []
  },
  {
   "cell_type": "code",
   "execution_count": 25,
   "id": "6a8d4765-ac04-429c-8b29-add39078bcab",
   "metadata": {},
   "outputs": [
    {
     "data": {
      "text/html": [
       "<div>\n",
       "<style scoped>\n",
       "    .dataframe tbody tr th:only-of-type {\n",
       "        vertical-align: middle;\n",
       "    }\n",
       "\n",
       "    .dataframe tbody tr th {\n",
       "        vertical-align: top;\n",
       "    }\n",
       "\n",
       "    .dataframe thead th {\n",
       "        text-align: right;\n",
       "    }\n",
       "</style>\n",
       "<table border=\"1\" class=\"dataframe\">\n",
       "  <thead>\n",
       "    <tr style=\"text-align: right;\">\n",
       "      <th></th>\n",
       "      <th>category</th>\n",
       "      <th>value</th>\n",
       "    </tr>\n",
       "  </thead>\n",
       "  <tbody>\n",
       "    <tr>\n",
       "      <th>0</th>\n",
       "      <td>manual</td>\n",
       "      <td>12</td>\n",
       "    </tr>\n",
       "    <tr>\n",
       "      <th>1</th>\n",
       "      <td>manual</td>\n",
       "      <td>11</td>\n",
       "    </tr>\n",
       "    <tr>\n",
       "      <th>2</th>\n",
       "      <td>manual</td>\n",
       "      <td>12</td>\n",
       "    </tr>\n",
       "    <tr>\n",
       "      <th>3</th>\n",
       "      <td>manual</td>\n",
       "      <td>15</td>\n",
       "    </tr>\n",
       "    <tr>\n",
       "      <th>4</th>\n",
       "      <td>manual</td>\n",
       "      <td>11</td>\n",
       "    </tr>\n",
       "  </tbody>\n",
       "</table>\n",
       "</div>"
      ],
      "text/plain": [
       "  category  value\n",
       "0   manual     12\n",
       "1   manual     11\n",
       "2   manual     12\n",
       "3   manual     15\n",
       "4   manual     11"
      ]
     },
     "execution_count": 25,
     "metadata": {},
     "output_type": "execute_result"
    }
   ],
   "source": [
    "time_task1 = pd.read_excel(\"Results.xlsx\", sheet_name = \"Time_experiment1.1\")\n",
    "time_task1 = time_task1.set_index(\"Unnamed: 0\").T\n",
    "time_task1 = pd.melt(time_task1, value_vars=time_task1.columns, var_name=\"category\")\n",
    "time_task1.head()\n"
   ]
  },
  {
   "cell_type": "code",
   "execution_count": 26,
   "id": "b81bee58-b19a-4834-85d9-c6b65f46d6a3",
   "metadata": {},
   "outputs": [],
   "source": [
    "manual_value = []\n",
    "robot_value = []\n",
    "\n",
    "for index, row in time_task1.iterrows():\n",
    "    if row[\"category\"] == \"manual\":\n",
    "        manual_value.append(row[\"value\"])\n",
    "    else:\n",
    "        robot_value.append(row[\"value\"])"
   ]
  },
  {
   "cell_type": "code",
   "execution_count": 27,
   "id": "75480c16-cb45-4623-bfea-1300d7835eb2",
   "metadata": {},
   "outputs": [
    {
     "name": "stdout",
     "output_type": "stream",
     "text": [
      "[12, 11, 12, 15, 11, 13, 12, 14, 17, 11, 15, 12, 12, 13, 16, 14, 13, 13, 12, 11, 13, 11, 13, 10, 12, 10, 11, 13, 16, 12, 13, 11, 11, 12, 10, 10, 12, 11, 12, 14, 12, 11, 12, 11, 10, 11, 14, 13, 13, 11] [12, 10, 11, 12, 11, 10, 13, 13, 14, 11, 10, 12, 10, 11, 14, 10, 13, 10, 13, 10, 11, 10, 11, 11, 12, 11, 12, 12, 12, 11, 11, 11, 10, 10, 11, 10, 10, 11, 13, 11, 10, 12, 10, 11, 10, 10, 11, 10, 12, 11]\n"
     ]
    }
   ],
   "source": [
    "print(manual_value, robot_value)"
   ]
  },
  {
   "cell_type": "code",
   "execution_count": 29,
   "id": "98bfccf4-fe50-4131-835c-625cd280f158",
   "metadata": {},
   "outputs": [
    {
     "data": {
      "image/png": "[encoded data removed]",
      "text/plain": [
       "<Figure size 432x288 with 1 Axes>"
      ]
     },
     "metadata": {
      "needs_background": "light"
     },
     "output_type": "display_data"
    }
   ],
   "source": [
    "plt.boxplot([manual_value, robot_value], labels=['Manual', 'Robotic hand'])\n",
    "\n",
    "plt.title('Duration of the task')\n",
    "plt.ylabel('Time (seconds)')\n",
    "plt.show()"
   ]
  },
  {
   "cell_type": "code",
   "execution_count": 30,
   "id": "c2147f13-f167-48d3-9de2-c12f09311f4f",
   "metadata": {},
   "outputs": [
    {
     "data": {
      "image/png": "[encoded data removed]",
      "text/plain": [
       "<Figure size 432x288 with 1 Axes>"
      ]
     },
     "metadata": {
      "needs_background": "light"
     },
     "output_type": "display_data"
    }
   ],
   "source": [
    "categories = [\"without feedback\", \"neither\", \"with feedback\"]\n",
    "def which_requires_more_effort(value):\n",
    "    if value > 0:\n",
    "        return categories[0]\n",
    "    elif value == 0:\n",
    "        return categories[1]\n",
    "    else:\n",
    "        return categories[2]\n",
    "\n",
    "df[\"more_effort\"] = (df[\"forceps2\"] - df[\"forceps_feedback2\"]).apply(which_requires_more_effort)\n",
    "df[\"more_effort\"] = pd.Categorical(df[\"more_effort\"], categories)\n",
    "\n",
    "by_effort = df.groupby(\"more_effort\")[[\"demog1\"]].count().reset_index().rename(columns={\"demog1\": \"count\"})\n",
    "plt.bar(by_effort[\"more_effort\"], by_effort[\"count\"])\n",
    "plt.yticks(range(7))\n",
    "plt.xticks(categories)\n",
    "plt.ylabel(\"N. Participants\")\n",
    "plt.title(\"Which one requires the most physical effort?\")\n",
    "plt.show()"
   ]
  },
  {
   "cell_type": "code",
   "execution_count": 31,
   "id": "6f6d81a9-96a5-4c1b-ba19-5ababec2d79b",
   "metadata": {},
   "outputs": [
    {
     "data": {
      "image/png": "[encoded data removed]",
      "text/plain": [
       "<Figure size 432x288 with 1 Axes>"
      ]
     },
     "metadata": {
      "needs_background": "light"
     },
     "output_type": "display_data"
    }
   ],
   "source": [
    "categories = [\"without feedback\", \"neither\", \"with feedback\"]\n",
    "def which_requires_more_effort(value):\n",
    "    if value > 0:\n",
    "        return categories[0]\n",
    "    elif value == 0:\n",
    "        return categories[1]\n",
    "    else:\n",
    "        return categories[2]\n",
    "\n",
    "df[\"effectivity\"] = (df[\"forceps3\"] - df[\"forceps_feedback3\"]).apply(which_requires_more_effort)\n",
    "df[\"effectivity\"] = pd.Categorical(df[\"effectivity\"], categories)\n",
    "\n",
    "by_effort = df.groupby(\"effectivity\")[[\"demog1\"]].count().reset_index().rename(columns={\"demog1\": \"count\"})\n",
    "plt.bar(by_effort[\"effectivity\"], by_effort[\"count\"])\n",
    "plt.yticks(range(7))\n",
    "plt.xticks(categories)\n",
    "plt.ylabel(\"N. Participants\")\n",
    "plt.title(\"Which provided the best performance?\")\n",
    "plt.show()"
   ]
  },
  {
   "cell_type": "code",
   "execution_count": null,
   "id": "780f6286-e5c9-4d75-a80a-df5aca02ba3b",
   "metadata": {},
   "outputs": [],
   "source": []
  },
  {
   "cell_type": "code",
   "execution_count": null,
   "id": "f64b9e85-1a2e-4e67-a581-389fd453fe2b",
   "metadata": {},
   "outputs": [],
   "source": []
  }
 ],
 "metadata": {
  "kernelspec": {
   "display_name": "Python 3 (ipykernel)",
   "language": "python",
   "name": "python3"
  },
  "language_info": {
   "codemirror_mode": {
    "name": "ipython",
    "version": 3
   },
   "file_extension": ".py",
   "mimetype": "text/x-python",
   "name": "python",
   "nbconvert_exporter": "python",
   "pygments_lexer": "ipython3",
   "version": "3.9.6"
  }
 },
 "nbformat": 4,
 "nbformat_minor": 5
}
