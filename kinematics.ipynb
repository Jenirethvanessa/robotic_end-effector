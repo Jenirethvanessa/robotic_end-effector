{
 "cells": [
  {
   "cell_type": "code",
   "execution_count": 2,
   "id": "6f2fb7f9-ade5-4547-905e-c5554ebcc154",
   "metadata": {},
   "outputs": [],
   "source": [
    "import matplotlib.pyplot as plt\n"
   ]
  },
  {
   "cell_type": "code",
   "execution_count": 25,
   "id": "f9c57597-d347-4d84-815a-6edf8380aeaf",
   "metadata": {},
   "outputs": [
    {
     "data": {
      "text/plain": [
       "Text(0.5, 0, 'Jaw distance (mm)')"
      ]
     },
     "execution_count": 25,
     "metadata": {},
     "output_type": "execute_result"
    },
    {
     "data": {
      "image/png": "[encoded data removed]",
      "text/plain": [
       "<Figure size 432x288 with 1 Axes>"
      ]
     },
     "metadata": {
      "needs_background": "light"
     },
     "output_type": "display_data"
    }
   ],
   "source": [
    "slider = [935.0*0.0127, 743.0*0.0127, 591.0*0.0127, 412.0*0.0127, 271.0*0.0127]\n",
    "distance = [30, 21.5, 15, 7.5, 1]\n",
    "\n",
    "plt.plot(distance, slider, linestyle = \"--\")\n",
    "plt.scatter(distance, slider)\n",
    "plt.title(\"Jaw vs Slider distance\")\n",
    "plt.ylabel(\"Slider distance (mm)\")\n",
    "plt.xlabel(\"Jaw distance (mm)\")"
   ]
  },
  {
   "cell_type": "code",
   "execution_count": 18,
   "id": "cc6b1858-9729-418f-a8cd-a8c6c5c860b0",
   "metadata": {},
   "outputs": [
    {
     "data": {
      "text/plain": [
       "11.8745"
      ]
     },
     "execution_count": 18,
     "metadata": {},
     "output_type": "execute_result"
    }
   ],
   "source": [
    "a = 935*0.0127\n",
    "a"
   ]
  },
  {
   "cell_type": "code",
   "execution_count": 19,
   "id": "b29c208d-0c91-4c5b-8906-306a01aea0e5",
   "metadata": {},
   "outputs": [
    {
     "data": {
      "text/plain": [
       "3.4417"
      ]
     },
     "execution_count": 19,
     "metadata": {},
     "output_type": "execute_result"
    }
   ],
   "source": [
    "b = 271*0.0127\n",
    "b"
   ]
  },
  {
   "cell_type": "code",
   "execution_count": 20,
   "id": "351e4eae-bb1d-4470-8cba-978a400f6a75",
   "metadata": {},
   "outputs": [
    {
     "data": {
      "text/plain": [
       "8.4328"
      ]
     },
     "execution_count": 20,
     "metadata": {},
     "output_type": "execute_result"
    }
   ],
   "source": [
    "a-b"
   ]
  },
  {
   "cell_type": "code",
   "execution_count": null,
   "id": "3d37ab44-906d-4db5-babb-474872b48c4b",
   "metadata": {},
   "outputs": [],
   "source": []
  }
 ],
 "metadata": {
  "kernelspec": {
   "display_name": "Python 3 (ipykernel)",
   "language": "python",
   "name": "python3"
  },
  "language_info": {
   "codemirror_mode": {
    "name": "ipython",
    "version": 3
   },
   "file_extension": ".py",
   "mimetype": "text/x-python",
   "name": "python",
   "nbconvert_exporter": "python",
   "pygments_lexer": "ipython3",
   "version": "3.9.6"
  }
 },
 "nbformat": 4,
 "nbformat_minor": 5
}
