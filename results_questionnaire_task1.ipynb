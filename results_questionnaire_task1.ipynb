{
 "cells": [
  {
   "cell_type": "code",
   "execution_count": 2,
   "id": "4678a20a-846f-4025-bf6e-be3c7d6a21a0",
   "metadata": {},
   "outputs": [],
   "source": [
    "import pandas as pd\n",
    "import matplotlib.pyplot as plt\n",
    "import seaborn as sns\n",
    "import numpy as np\n",
    "import scipy\n",
    "from scipy.stats import shapiro\n",
    "from scipy.stats import kstest\n",
    "from scipy.stats import mannwhitneyu"
   ]
  },
  {
   "cell_type": "code",
   "execution_count": 3,
   "id": "7ec6fee3-a2ae-452a-a591-47e0c4338225",
   "metadata": {},
   "outputs": [
    {
     "data": {
      "text/html": [
       "<div>\n",
       "<style scoped>\n",
       "    .dataframe tbody tr th:only-of-type {\n",
       "        vertical-align: middle;\n",
       "    }\n",
       "\n",
       "    .dataframe tbody tr th {\n",
       "        vertical-align: top;\n",
       "    }\n",
       "\n",
       "    .dataframe thead th {\n",
       "        text-align: right;\n",
       "    }\n",
       "</style>\n",
       "<table border=\"1\" class=\"dataframe\">\n",
       "  <thead>\n",
       "    <tr style=\"text-align: right;\">\n",
       "      <th></th>\n",
       "      <th>demog1</th>\n",
       "      <th>demog2</th>\n",
       "      <th>demog3</th>\n",
       "      <th>demog4</th>\n",
       "      <th>demog5</th>\n",
       "      <th>demog6</th>\n",
       "      <th>demog7</th>\n",
       "      <th>demog8</th>\n",
       "      <th>manual_needle1</th>\n",
       "      <th>manual_needle2</th>\n",
       "      <th>...</th>\n",
       "      <th>forceps2</th>\n",
       "      <th>forceps3</th>\n",
       "      <th>forceps_feedback1</th>\n",
       "      <th>forceps_feedback2</th>\n",
       "      <th>forceps_feedback3</th>\n",
       "      <th>forceps_feedback4.1</th>\n",
       "      <th>forceps_feedback4.2</th>\n",
       "      <th>forceps_feedback4.3</th>\n",
       "      <th>changing _instrument</th>\n",
       "      <th>forceps_xbox</th>\n",
       "    </tr>\n",
       "  </thead>\n",
       "  <tbody>\n",
       "    <tr>\n",
       "      <th>1</th>\n",
       "      <td>M</td>\n",
       "      <td>23</td>\n",
       "      <td>Y</td>\n",
       "      <td>Y</td>\n",
       "      <td>2</td>\n",
       "      <td>N</td>\n",
       "      <td>N</td>\n",
       "      <td>N</td>\n",
       "      <td>4</td>\n",
       "      <td>3</td>\n",
       "      <td>...</td>\n",
       "      <td>1</td>\n",
       "      <td>3</td>\n",
       "      <td>2</td>\n",
       "      <td>1</td>\n",
       "      <td>4</td>\n",
       "      <td>5</td>\n",
       "      <td>5</td>\n",
       "      <td>5</td>\n",
       "      <td>2</td>\n",
       "      <td>4</td>\n",
       "    </tr>\n",
       "    <tr>\n",
       "      <th>2</th>\n",
       "      <td>M</td>\n",
       "      <td>23</td>\n",
       "      <td>Y</td>\n",
       "      <td>Y</td>\n",
       "      <td>4</td>\n",
       "      <td>Y</td>\n",
       "      <td>N</td>\n",
       "      <td>N</td>\n",
       "      <td>4</td>\n",
       "      <td>3</td>\n",
       "      <td>...</td>\n",
       "      <td>4</td>\n",
       "      <td>3</td>\n",
       "      <td>3</td>\n",
       "      <td>2</td>\n",
       "      <td>3</td>\n",
       "      <td>3</td>\n",
       "      <td>5</td>\n",
       "      <td>5</td>\n",
       "      <td>1</td>\n",
       "      <td>4</td>\n",
       "    </tr>\n",
       "    <tr>\n",
       "      <th>3</th>\n",
       "      <td>M</td>\n",
       "      <td>31</td>\n",
       "      <td>Y</td>\n",
       "      <td>Y</td>\n",
       "      <td>1</td>\n",
       "      <td>N</td>\n",
       "      <td>N</td>\n",
       "      <td>N</td>\n",
       "      <td>2</td>\n",
       "      <td>3</td>\n",
       "      <td>...</td>\n",
       "      <td>1</td>\n",
       "      <td>2</td>\n",
       "      <td>1</td>\n",
       "      <td>1</td>\n",
       "      <td>5</td>\n",
       "      <td>5</td>\n",
       "      <td>5</td>\n",
       "      <td>5</td>\n",
       "      <td>1</td>\n",
       "      <td>5</td>\n",
       "    </tr>\n",
       "    <tr>\n",
       "      <th>4</th>\n",
       "      <td>M</td>\n",
       "      <td>36</td>\n",
       "      <td>Y</td>\n",
       "      <td>Y</td>\n",
       "      <td>4</td>\n",
       "      <td>N</td>\n",
       "      <td>N</td>\n",
       "      <td>N</td>\n",
       "      <td>3</td>\n",
       "      <td>4</td>\n",
       "      <td>...</td>\n",
       "      <td>2</td>\n",
       "      <td>2</td>\n",
       "      <td>2</td>\n",
       "      <td>3</td>\n",
       "      <td>3</td>\n",
       "      <td>4</td>\n",
       "      <td>4</td>\n",
       "      <td>4</td>\n",
       "      <td>3</td>\n",
       "      <td>2</td>\n",
       "    </tr>\n",
       "    <tr>\n",
       "      <th>5</th>\n",
       "      <td>M</td>\n",
       "      <td>27</td>\n",
       "      <td>Y</td>\n",
       "      <td>N</td>\n",
       "      <td>4</td>\n",
       "      <td>N</td>\n",
       "      <td>N</td>\n",
       "      <td>N</td>\n",
       "      <td>3</td>\n",
       "      <td>4</td>\n",
       "      <td>...</td>\n",
       "      <td>1</td>\n",
       "      <td>2</td>\n",
       "      <td>2</td>\n",
       "      <td>1</td>\n",
       "      <td>5</td>\n",
       "      <td>5</td>\n",
       "      <td>5</td>\n",
       "      <td>5</td>\n",
       "      <td>1</td>\n",
       "      <td>5</td>\n",
       "    </tr>\n",
       "  </tbody>\n",
       "</table>\n",
       "<p>5 rows × 29 columns</p>\n",
       "</div>"
      ],
      "text/plain": [
       "0 demog1 demog2 demog3 demog4 demog5 demog6 demog7 demog8 manual_needle1  \\\n",
       "1      M     23      Y      Y      2      N      N      N              4   \n",
       "2      M     23      Y      Y      4      Y      N      N              4   \n",
       "3      M     31      Y      Y      1      N      N      N              2   \n",
       "4      M     36      Y      Y      4      N      N      N              3   \n",
       "5      M     27      Y      N      4      N      N      N              3   \n",
       "\n",
       "0 manual_needle2  ... forceps2 forceps3 forceps_feedback1 forceps_feedback2  \\\n",
       "1              3  ...        1        3                 2                 1   \n",
       "2              3  ...        4        3                 3                 2   \n",
       "3              3  ...        1        2                 1                 1   \n",
       "4              4  ...        2        2                 2                 3   \n",
       "5              4  ...        1        2                 2                 1   \n",
       "\n",
       "0 forceps_feedback3 forceps_feedback4.1 forceps_feedback4.2  \\\n",
       "1                 4                   5                   5   \n",
       "2                 3                   3                   5   \n",
       "3                 5                   5                   5   \n",
       "4                 3                   4                   4   \n",
       "5                 5                   5                   5   \n",
       "\n",
       "0 forceps_feedback4.3 changing _instrument forceps_xbox  \n",
       "1                   5                    2            4  \n",
       "2                   5                    1            4  \n",
       "3                   5                    1            5  \n",
       "4                   4                    3            2  \n",
       "5                   5                    1            5  \n",
       "\n",
       "[5 rows x 29 columns]"
      ]
     },
     "execution_count": 3,
     "metadata": {},
     "output_type": "execute_result"
    }
   ],
   "source": [
    "# Import file\n",
    "df = pd.read_excel(\"Results.xlsx\", header=None)\n",
    "df = df.loc[1:,list(range(12))].set_index(0).T\n",
    "df.head()"
   ]
  },
  {
   "cell_type": "code",
   "execution_count": 4,
   "id": "8ff5f03a-a1c2-400f-8e4f-1c9f3ce2ce2a",
   "metadata": {},
   "outputs": [],
   "source": [
    "def plot_question(df, variable, title, categories):\n",
    "    df = df.copy()\n",
    "    \n",
    "    value_map = {i: v for i, v in enumerate(categories, 1)}\n",
    "    df[variable] = pd.Categorical(df[variable].map(value_map), categories)\n",
    "    by_change = df.groupby(variable)[[\"demog1\"]].count().reset_index().rename(columns={\"demog1\": \"count\"})\n",
    "    \n",
    "    plt.bar(by_change[variable], by_change[\"count\"])\n",
    "    plt.yticks(range(by_change[\"count\"].max()+ 1))\n",
    "    # plt.xticks(categories)\n",
    "    plt.ylabel(\"N. Participants\")\n",
    "    plt.title(title)\n",
    "    plt.show()"
   ]
  },
  {
   "cell_type": "code",
   "execution_count": 5,
   "id": "3f02fc78-d5e3-45b2-a3c4-447da5ca4bd3",
   "metadata": {},
   "outputs": [],
   "source": [
    "def plot_two_questions(df, first_variable, first_name, second_variable, second_name, categories, title):\n",
    "\n",
    "    value_map = {i: v for i, v in enumerate(categories, 1)}\n",
    "    data = df.copy()\n",
    "    \n",
    "    by_change = None\n",
    "    for col, new_name in ((first_variable, first_name), (second_variable, second_name)):\n",
    "        data[col] = pd.Categorical(data[col].map(value_map), categories)\n",
    "        this_df = data.groupby(col)[[\"demog1\"]].count().rename(columns={\"demog1\": new_name})\n",
    "        if by_change is None:\n",
    "            by_change = this_df\n",
    "            by_change.index.name = \"response\"\n",
    "        else:\n",
    "            by_change[new_name] = this_df[new_name]\n",
    "    \n",
    "    by_change = by_change.reset_index().melt(id_vars=\"response\", value_vars=[first_name, second_name], var_name=\"experiment\")\n",
    "    \n",
    "    sns.barplot(by_change, x=\"response\", y=\"value\", hue=\"experiment\")\n",
    "    plt.legend()\n",
    "    plt.title(title)\n",
    "    plt.ylabel(\"N. Participants\")\n",
    "    plt.xlabel(\"\")\n",
    "    plt.show()"
   ]
  },
  {
   "cell_type": "markdown",
   "id": "1e61798b-6847-401d-be9a-243c81a2955f",
   "metadata": {},
   "source": [
    "# Task 1 "
   ]
  },
  {
   "cell_type": "code",
   "execution_count": 30,
   "id": "14966e63-1934-44f4-8505-ad1d47b970e0",
   "metadata": {},
   "outputs": [
    {
     "data": {
      "image/png": "[encoded data removed]",
      "text/plain": [
       "<Figure size 432x288 with 1 Axes>"
      ]
     },
     "metadata": {
      "needs_background": "light"
     },
     "output_type": "display_data"
    }
   ],
   "source": [
    "categories = [\"Very Easy\", \"Easy\", \"Ok\", \"Hard\", \"Very Hard\"]\n",
    "#title = \"How difficult was to change the instrument?\"\n",
    "title = \"\"\n",
    "plot_question(df, variable=\"changing _instrument\", title=title, categories = categories)"
   ]
  },
  {
   "cell_type": "code",
   "execution_count": 34,
   "id": "3b9db214-ba94-4023-af50-c8802ad24709",
   "metadata": {},
   "outputs": [
    {
     "data": {
      "image/png": "[encoded data removed]",
      "text/plain": [
       "<Figure size 432x288 with 1 Axes>"
      ]
     },
     "metadata": {
      "needs_background": "light"
     },
     "output_type": "display_data"
    }
   ],
   "source": [
    "categories = [\"Very Little\", \"A Little\", \"Ok\", \"A lot\", \"Too Much\"]\n",
    "#title = \"How much physical effort was required?\"\n",
    "title = \"\"\n",
    "plot_two_questions(df, first_variable=\"manual_needle1\", first_name=\"Manually\", second_variable=\"needle1\", second_name=\"Robotic end-effector\", categories = categories, title = title)"
   ]
  },
  {
   "cell_type": "code",
   "execution_count": 35,
   "id": "f079eb27-4d6b-4610-a03a-831515b74487",
   "metadata": {},
   "outputs": [
    {
     "data": {
      "image/png": "[encoded data removed]",
      "text/plain": [
       "<Figure size 432x288 with 1 Axes>"
      ]
     },
     "metadata": {
      "needs_background": "light"
     },
     "output_type": "display_data"
    }
   ],
   "source": [
    "categories = [\"Very Bad\", \"Bad\", \"Ok\", \"Well\", \"Very Well\"]\n",
    "#title = \"How well did you manage to do the task?\"\n",
    "tittle = \"\"\n",
    "plot_two_questions(df, first_variable=\"manual_needle2\", first_name=\"Manually\", second_variable=\"needle2\", second_name=\"Robotic end-effector\",  categories = categories, title = title)"
   ]
  },
  {
   "cell_type": "code",
   "execution_count": 9,
   "id": "4a3337e9-d884-4d58-a211-9ab88c49b84d",
   "metadata": {},
   "outputs": [
    {
     "data": {
      "image/png": "[encoded data removed]",
      "text/plain": [
       "<Figure size 432x288 with 1 Axes>"
      ]
     },
     "metadata": {
      "needs_background": "light"
     },
     "output_type": "display_data"
    }
   ],
   "source": [
    "# Preference of method by comparing the answer of the same participant for both subtask \n",
    "categories = [\"manual\", \"neither\", \"robot\"]\n",
    "def which_requires_more_effort(value):\n",
    "    if value > 0:\n",
    "        return categories[0]\n",
    "    elif value == 0:\n",
    "        return categories[1]\n",
    "    else:\n",
    "        return categories[2]\n",
    "\n",
    "df[\"more_effort\"] = (df[\"manual_needle1\"] - df[\"needle1\"]).apply(which_requires_more_effort)\n",
    "\n",
    "by_effort = df.groupby(\"more_effort\")[[\"demog1\"]].count().reset_index().rename(columns={\"demog1\": \"count\"})\n",
    "plt.bar(by_effort[\"more_effort\"], by_effort[\"count\"])\n",
    "plt.yticks(range(11))\n",
    "plt.xticks(categories)\n",
    "plt.ylabel(\"N. Participants\")\n",
    "plt.title(\"Which one requires the most physical effort?\")\n",
    "plt.show()"
   ]
  },
  {
   "cell_type": "code",
   "execution_count": 10,
   "id": "486b80ba-68f0-4519-9c76-44023509ba86",
   "metadata": {},
   "outputs": [
    {
     "data": {
      "image/png": "[encoded data removed]",
      "text/plain": [
       "<Figure size 432x288 with 1 Axes>"
      ]
     },
     "metadata": {
      "needs_background": "light"
     },
     "output_type": "display_data"
    }
   ],
   "source": [
    "# Preference of method by comparing the answer of the same participant for both subtask \n",
    "categories = [\"manual\", \"neither\", \"robot\"]\n",
    "def which_requires_more_effort(value):\n",
    "    if value > 0:\n",
    "        return categories[0]\n",
    "    elif value == 0:\n",
    "        return categories[1]\n",
    "    else:\n",
    "        return categories[2]\n",
    "\n",
    "df[\"effectivity\"] = (df[\"manual_needle2\"] - df[\"needle2\"]).apply(which_requires_more_effort)\n",
    "df[\"effectivity\"] = pd.Categorical(df[\"effectivity\"], categories)\n",
    "\n",
    "by_effort = df.groupby(\"effectivity\")[[\"demog1\"]].count().reset_index().rename(columns={\"demog1\": \"count\"})\n",
    "plt.bar(by_effort[\"effectivity\"], by_effort[\"count\"])\n",
    "plt.yticks(range(11))\n",
    "plt.xticks(categories)\n",
    "plt.ylabel(\"N. Participants\")\n",
    "plt.title(\"Which provided the best performance?\")\n",
    "plt.show()"
   ]
  },
  {
   "cell_type": "code",
   "execution_count": 11,
   "id": "b9722124-93d2-4880-81bd-6a65dade4737",
   "metadata": {},
   "outputs": [
    {
     "data": {
      "text/html": [
       "<div>\n",
       "<style scoped>\n",
       "    .dataframe tbody tr th:only-of-type {\n",
       "        vertical-align: middle;\n",
       "    }\n",
       "\n",
       "    .dataframe tbody tr th {\n",
       "        vertical-align: top;\n",
       "    }\n",
       "\n",
       "    .dataframe thead th {\n",
       "        text-align: right;\n",
       "    }\n",
       "</style>\n",
       "<table border=\"1\" class=\"dataframe\">\n",
       "  <thead>\n",
       "    <tr style=\"text-align: right;\">\n",
       "      <th></th>\n",
       "      <th>category</th>\n",
       "      <th>value</th>\n",
       "    </tr>\n",
       "  </thead>\n",
       "  <tbody>\n",
       "    <tr>\n",
       "      <th>0</th>\n",
       "      <td>manual</td>\n",
       "      <td>12</td>\n",
       "    </tr>\n",
       "    <tr>\n",
       "      <th>1</th>\n",
       "      <td>manual</td>\n",
       "      <td>11</td>\n",
       "    </tr>\n",
       "    <tr>\n",
       "      <th>2</th>\n",
       "      <td>manual</td>\n",
       "      <td>12</td>\n",
       "    </tr>\n",
       "    <tr>\n",
       "      <th>3</th>\n",
       "      <td>manual</td>\n",
       "      <td>15</td>\n",
       "    </tr>\n",
       "    <tr>\n",
       "      <th>4</th>\n",
       "      <td>manual</td>\n",
       "      <td>11</td>\n",
       "    </tr>\n",
       "  </tbody>\n",
       "</table>\n",
       "</div>"
      ],
      "text/plain": [
       "  category  value\n",
       "0   manual     12\n",
       "1   manual     11\n",
       "2   manual     12\n",
       "3   manual     15\n",
       "4   manual     11"
      ]
     },
     "execution_count": 11,
     "metadata": {},
     "output_type": "execute_result"
    }
   ],
   "source": [
    "time_task1 = pd.read_excel(\"Results.xlsx\", sheet_name = \"Time_experiment1.1\")\n",
    "time_task1 = time_task1.set_index(\"Unnamed: 0\").T\n",
    "time_task1 = pd.melt(time_task1, value_vars=time_task1.columns, var_name=\"category\")\n",
    "time_task1.head()"
   ]
  },
  {
   "cell_type": "code",
   "execution_count": 12,
   "id": "b81bee58-b19a-4834-85d9-c6b65f46d6a3",
   "metadata": {},
   "outputs": [],
   "source": [
    "manual_value = []\n",
    "robot_value = []\n",
    "\n",
    "for index, row in time_task1.iterrows():\n",
    "    if row[\"category\"] == \"manual\":\n",
    "        manual_value.append(row[\"value\"])\n",
    "    else:\n",
    "        robot_value.append(row[\"value\"])"
   ]
  },
  {
   "cell_type": "code",
   "execution_count": 13,
   "id": "c1221ef9-0ef2-42e7-9521-f21859f9031b",
   "metadata": {},
   "outputs": [],
   "source": [
    "# Mean value of the 5 trials per participant\n",
    "manual_value_mean = [13, 11.2, 12, 12.2, 11.8, 11.6, 12.4, 12.8, 14, 11.8, 11.2]\n",
    "robot_value_mean = [10.8, 11, 10.4, 11, 11.6, 10.2, 11.8, 11.2, 12.8, 10.8, 11.4]\n"
   ]
  },
  {
   "cell_type": "code",
   "execution_count": 14,
   "id": "98bfccf4-fe50-4131-835c-625cd280f158",
   "metadata": {},
   "outputs": [
    {
     "data": {
      "image/png": "[encoded data removed]",
      "text/plain": [
       "<Figure size 252x252 with 1 Axes>"
      ]
     },
     "metadata": {
      "needs_background": "light"
     },
     "output_type": "display_data"
    }
   ],
   "source": [
    "plt.figure(figsize=(3.5, 3.5))\n",
    "plt.boxplot([manual_value, robot_value], labels=['Manually', 'Robotic end-effector'])\n",
    "\n",
    "plt.title('Duration of the task')\n",
    "plt.ylabel('Time (seconds)')\n",
    "plt.show()"
   ]
  },
  {
   "cell_type": "code",
   "execution_count": 36,
   "id": "1d6ac610-64a7-41cf-a754-2889afe694fa",
   "metadata": {},
   "outputs": [
    {
     "data": {
      "image/png": "[encoded data removed]",
      "text/plain": [
       "<Figure size 288x288 with 1 Axes>"
      ]
     },
     "metadata": {
      "needs_background": "light"
     },
     "output_type": "display_data"
    }
   ],
   "source": [
    "plt.figure(figsize=(4, 4))\n",
    "plt.boxplot([manual_value_mean, robot_value_mean], labels=['Manual', 'Robotic end-effector'])\n",
    "\n",
    "#plt.title('Duration of the task')\n",
    "plt.ylabel('Time (seconds)')\n",
    "plt.show()"
   ]
  },
  {
   "cell_type": "markdown",
   "id": "d26d0865-58db-4c3f-92c8-f02ddd2a3765",
   "metadata": {},
   "source": [
    "### Statistical analysis"
   ]
  },
  {
   "cell_type": "code",
   "execution_count": 16,
   "id": "a621ea7f-9903-4289-bfd5-474db2ba77df",
   "metadata": {},
   "outputs": [
    {
     "data": {
      "text/plain": [
       "Text(0.5, 1.0, 'Histogram of time with manual')"
      ]
     },
     "execution_count": 16,
     "metadata": {},
     "output_type": "execute_result"
    },
    {
     "data": {
      "image/png": "[encoded data removed]",
      "text/plain": [
       "<Figure size 432x288 with 1 Axes>"
      ]
     },
     "metadata": {
      "needs_background": "light"
     },
     "output_type": "display_data"
    }
   ],
   "source": [
    "sns.histplot(manual_value_mean, bins=20, color='green')\n",
    "plt.title('Histogram of time with manual', fontsize=\"18\")"
   ]
  },
  {
   "cell_type": "code",
   "execution_count": 17,
   "id": "f0c8ca01-6dc4-4310-a2bb-f233b837bb4c",
   "metadata": {},
   "outputs": [
    {
     "data": {
      "text/plain": [
       "ShapiroResult(statistic=0.9293107390403748, pvalue=0.4039229154586792)"
      ]
     },
     "execution_count": 17,
     "metadata": {},
     "output_type": "execute_result"
    }
   ],
   "source": [
    "scipy.stats.shapiro(manual_value_mean)"
   ]
  },
  {
   "cell_type": "code",
   "execution_count": 18,
   "id": "bcb09a3a-9a15-4a4c-a505-ba10169879f1",
   "metadata": {},
   "outputs": [
    {
     "data": {
      "text/plain": [
       "Text(0.5, 1.0, 'Histogram of time with end-effector')"
      ]
     },
     "execution_count": 18,
     "metadata": {},
     "output_type": "execute_result"
    },
    {
     "data": {
      "image/png": "[encoded data removed]",
      "text/plain": [
       "<Figure size 432x288 with 1 Axes>"
      ]
     },
     "metadata": {
      "needs_background": "light"
     },
     "output_type": "display_data"
    }
   ],
   "source": [
    "sns.histplot(robot_value_mean, bins=20, color='blue')\n",
    "plt.title('Histogram of time with end-effector', fontsize=\"18\")"
   ]
  },
  {
   "cell_type": "code",
   "execution_count": 19,
   "id": "2316d3f8-6cb2-40e7-9fc4-deba523ec6a0",
   "metadata": {},
   "outputs": [
    {
     "data": {
      "text/plain": [
       "ShapiroResult(statistic=0.9394140839576721, pvalue=0.5136351585388184)"
      ]
     },
     "execution_count": 19,
     "metadata": {},
     "output_type": "execute_result"
    }
   ],
   "source": [
    "scipy.stats.shapiro(robot_value_mean)\n",
    "# if not normal, check non-parametric methods similar t-test\n",
    "# add starts * to show significance and add the p values as well"
   ]
  },
  {
   "cell_type": "code",
   "execution_count": 20,
   "id": "b223ccfd-79f7-4d8e-8792-8f6181163616",
   "metadata": {},
   "outputs": [
    {
     "data": {
      "text/plain": [
       "TtestResult(statistic=4.564354645876383, pvalue=0.0010351953994786052, df=10)"
      ]
     },
     "execution_count": 20,
     "metadata": {},
     "output_type": "execute_result"
    }
   ],
   "source": [
    "scipy.stats.ttest_rel(manual_value_mean, robot_value_mean, axis=0, nan_policy='propagate', keepdims=False)\n"
   ]
  },
  {
   "cell_type": "code",
   "execution_count": 21,
   "id": "ad14b0a4-5c01-40d4-b866-0e0a4e89e9b3",
   "metadata": {},
   "outputs": [
    {
     "name": "stdout",
     "output_type": "stream",
     "text": [
      "mean and std of manual task: (12.181818181818182, 0.7975168072531387) and mean and std of robot task: (11.181818181818182, 0.6846607412277358)\n"
     ]
    }
   ],
   "source": [
    "total_mean_manual = np.mean(manual_value_mean)\n",
    "total_mean_robot = np.mean(robot_value_mean)\n",
    "\n",
    "total_std_manual = np.std(manual_value_mean)\n",
    "total_std_robot = np.std(robot_value_mean)\n",
    "\n",
    "print(f\"mean and std of manual task: {total_mean_manual, total_std_manual} and mean and std of robot task: {total_mean_robot, total_std_robot}\")"
   ]
  },
  {
   "cell_type": "markdown",
   "id": "d3655844-4435-43fc-b63f-a507825b03dc",
   "metadata": {},
   "source": [
    "### Processed data Task 1"
   ]
  },
  {
   "cell_type": "code",
   "execution_count": 22,
   "id": "c8d6318c-1334-45d7-840e-f51043bf746f",
   "metadata": {},
   "outputs": [
    {
     "data": {
      "image/png": "[encoded data removed]",
      "text/plain": [
       "<Figure size 432x288 with 1 Axes>"
      ]
     },
     "metadata": {
      "needs_background": "light"
     },
     "output_type": "display_data"
    }
   ],
   "source": [
    "# Preference of method by comparing the answer of the same participant for both subtask \n",
    "categories = [\"Human\", \"Robot\"]\n",
    "plot_question(df, variable=\"comparison2\", title=\"Which method required more physical effort?\", categories = categories)"
   ]
  },
  {
   "cell_type": "code",
   "execution_count": 23,
   "id": "23c89444-affd-486c-b125-ba9bc110e334",
   "metadata": {},
   "outputs": [
    {
     "data": {
      "image/png": "[encoded data removed]",
      "text/plain": [
       "<Figure size 432x288 with 1 Axes>"
      ]
     },
     "metadata": {
      "needs_background": "light"
     },
     "output_type": "display_data"
    }
   ],
   "source": [
    "# Preference of method by comparing the answer of the same participant for both subtask \n",
    "categories = [\"Human\", \"Robot\"]\n",
    "plot_question(df, variable=\"comparison3\", title=\"Which method was more comfortable to use?\", categories = categories)"
   ]
  },
  {
   "cell_type": "markdown",
   "id": "68b4fed5-ed3a-45c0-9ecb-420edc353d25",
   "metadata": {},
   "source": [
    "# Task 2"
   ]
  },
  {
   "cell_type": "code",
   "execution_count": 32,
   "id": "5d1a4a52-67d3-4dd5-a35e-90107c3062c3",
   "metadata": {},
   "outputs": [
    {
     "data": {
      "image/png": "[encoded data removed]",
      "text/plain": [
       "<Figure size 432x288 with 1 Axes>"
      ]
     },
     "metadata": {
      "needs_background": "light"
     },
     "output_type": "display_data"
    }
   ],
   "source": [
    "categories = [\"Very Little\", \"A Little\", \"Ok\", \"A lot\", \"Too Much\"]\n",
    "#title = \"How much physical effort was required?\"\n",
    "title = \"\"\n",
    "plot_two_questions(df, first_variable=\"forceps2\", first_name=\"without feedback\", second_variable=\"forceps_feedback2\", second_name=\"with feedback\", categories = categories, title = title)\n"
   ]
  },
  {
   "cell_type": "code",
   "execution_count": 33,
   "id": "7c5778b9-6640-40c5-bfbb-3eda2eaaf781",
   "metadata": {},
   "outputs": [
    {
     "data": {
      "image/png": "[encoded data removed]",
      "text/plain": [
       "<Figure size 432x288 with 1 Axes>"
      ]
     },
     "metadata": {
      "needs_background": "light"
     },
     "output_type": "display_data"
    }
   ],
   "source": [
    "categories = [\"Very Bad\", \"Bad\", \"Ok\", \"Well\", \"Very Well\"]\n",
    "#title = \"How well did you manage to do the task?\"\n",
    "title = \"\" \n",
    "plot_two_questions(df, first_variable=\"forceps3\", first_name=\"without feedback\", second_variable=\"forceps_feedback3\", second_name=\"with feedback\",  categories = categories, title = title)"
   ]
  },
  {
   "cell_type": "code",
   "execution_count": 28,
   "id": "8ac1c512-2fe5-4735-bc7f-b28a5b6e2a5f",
   "metadata": {},
   "outputs": [
    {
     "data": {
      "image/png": "[encoded data removed]",
      "text/plain": [
       "<Figure size 432x288 with 1 Axes>"
      ]
     },
     "metadata": {
      "needs_background": "light"
     },
     "output_type": "display_data"
    }
   ],
   "source": [
    "categories = [\"Terrible\", \"Not intuitive\", \"Intuitive\", \"Very Intuitive\", \"Excelent\"]\n",
    "#title = \"How intuitive was using the Xbox controller to control the movements?\"\n",
    "title = \"\" \n",
    "plot_two_questions(df, first_variable=\"needle_xbox\", first_name=\"Needle holder - Binary\", second_variable=\"forceps_xbox\", second_name=\"Forceps - Continuous\",  categories = categories, title = title)"
   ]
  },
  {
   "cell_type": "code",
   "execution_count": 18,
   "id": "c2147f13-f167-48d3-9de2-c12f09311f4f",
   "metadata": {},
   "outputs": [
    {
     "data": {
      "image/png": "[encoded data removed]",
      "text/plain": [
       "<Figure size 432x288 with 1 Axes>"
      ]
     },
     "metadata": {
      "needs_background": "light"
     },
     "output_type": "display_data"
    }
   ],
   "source": [
    "categories = [\"without feedback\", \"neither\", \"with feedback\"]\n",
    "def which_requires_more_effort(value):\n",
    "    if value > 0:\n",
    "        return categories[0]\n",
    "    elif value == 0:\n",
    "        return categories[1]\n",
    "    else:\n",
    "        return categories[2]\n",
    "\n",
    "df[\"more_effort\"] = (df[\"forceps2\"] - df[\"forceps_feedback2\"]).apply(which_requires_more_effort)\n",
    "df[\"more_effort\"] = pd.Categorical(df[\"more_effort\"], categories)\n",
    "\n",
    "by_effort = df.groupby(\"more_effort\")[[\"demog1\"]].count().reset_index().rename(columns={\"demog1\": \"count\"})\n",
    "plt.bar(by_effort[\"more_effort\"], by_effort[\"count\"])\n",
    "plt.yticks(range(7))\n",
    "plt.xticks(categories)\n",
    "plt.ylabel(\"N. Participants\")\n",
    "plt.title(\"Which one requires the most physical effort?\")\n",
    "plt.show()"
   ]
  },
  {
   "cell_type": "code",
   "execution_count": 19,
   "id": "6f6d81a9-96a5-4c1b-ba19-5ababec2d79b",
   "metadata": {},
   "outputs": [
    {
     "data": {
      "image/png": "[encoded data removed]",
      "text/plain": [
       "<Figure size 432x288 with 1 Axes>"
      ]
     },
     "metadata": {
      "needs_background": "light"
     },
     "output_type": "display_data"
    }
   ],
   "source": [
    "categories = [\"without feedback\", \"neither\", \"with feedback\"]\n",
    "def which_requires_more_effort(value):\n",
    "    if value > 0:\n",
    "        return categories[0]\n",
    "    elif value == 0:\n",
    "        return categories[1]\n",
    "    else:\n",
    "        return categories[2]\n",
    "\n",
    "df[\"effectivity\"] = (df[\"forceps3\"] - df[\"forceps_feedback3\"]).apply(which_requires_more_effort)\n",
    "df[\"effectivity\"] = pd.Categorical(df[\"effectivity\"], categories)\n",
    "\n",
    "by_effort = df.groupby(\"effectivity\")[[\"demog1\"]].count().reset_index().rename(columns={\"demog1\": \"count\"})\n",
    "plt.bar(by_effort[\"effectivity\"], by_effort[\"count\"])\n",
    "plt.yticks(range(7))\n",
    "plt.xticks(categories)\n",
    "plt.ylabel(\"N. Participants\")\n",
    "plt.title(\"Which provided the best performance?\")\n",
    "plt.show()"
   ]
  },
  {
   "cell_type": "markdown",
   "id": "0720296d-e21a-4fed-952f-1eb941571bbd",
   "metadata": {},
   "source": [
    "### Haptic Feedback"
   ]
  },
  {
   "cell_type": "code",
   "execution_count": 27,
   "id": "18097eb7-d3df-4e09-a26b-20acb344bfe7",
   "metadata": {},
   "outputs": [
    {
     "data": {
      "image/png": "[encoded data removed]",
      "text/plain": [
       "<Figure size 432x288 with 1 Axes>"
      ]
     },
     "metadata": {
      "needs_background": "light"
     },
     "output_type": "display_data"
    }
   ],
   "source": [
    "categories = [\"1\", \"2\", \"3\", \"4\", \"5\"]\n",
    "plot_question(df, variable=\"forceps_feedback4.1\", title=\"Pleasent\", categories = categories)"
   ]
  },
  {
   "cell_type": "code",
   "execution_count": 28,
   "id": "db6e8ae5-9a31-4c3d-a0cd-ab4e876f1bb5",
   "metadata": {},
   "outputs": [
    {
     "data": {
      "image/png": "[encoded data removed]",
      "text/plain": [
       "<Figure size 432x288 with 1 Axes>"
      ]
     },
     "metadata": {
      "needs_background": "light"
     },
     "output_type": "display_data"
    }
   ],
   "source": [
    "categories = [\"1\", \"2\", \"3\", \"4\", \"5\"]\n",
    "plot_question(df, variable=\"forceps_feedback4.2\", title=\"Helpful\", categories = categories)"
   ]
  },
  {
   "cell_type": "code",
   "execution_count": 29,
   "id": "3a9c8efd-f853-483f-9abe-03091c0cabf3",
   "metadata": {},
   "outputs": [
    {
     "data": {
      "image/png": "[encoded data removed]",
      "text/plain": [
       "<Figure size 432x288 with 1 Axes>"
      ]
     },
     "metadata": {
      "needs_background": "light"
     },
     "output_type": "display_data"
    }
   ],
   "source": [
    "categories = [\"1\", \"2\", \"3\", \"4\", \"5\"]\n",
    "plot_question(df, variable=\"forceps_feedback4.3\", title=\"Clear\", categories = categories)"
   ]
  },
  {
   "cell_type": "code",
   "execution_count": null,
   "id": "b803fa19-8548-4ee9-a65e-0c45ba54fca5",
   "metadata": {},
   "outputs": [],
   "source": []
  }
 ],
 "metadata": {
  "kernelspec": {
   "display_name": "Python 3 (ipykernel)",
   "language": "python",
   "name": "python3"
  },
  "language_info": {
   "codemirror_mode": {
    "name": "ipython",
    "version": 3
   },
   "file_extension": ".py",
   "mimetype": "text/x-python",
   "name": "python",
   "nbconvert_exporter": "python",
   "pygments_lexer": "ipython3",
   "version": "3.9.6"
  }
 },
 "nbformat": 4,
 "nbformat_minor": 5
}
