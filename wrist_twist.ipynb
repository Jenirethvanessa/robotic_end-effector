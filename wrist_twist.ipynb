{
 "cells": [
  {
   "cell_type": "code",
   "execution_count": 1,
   "id": "c29e3925-4921-4365-b336-0ae281d252f8",
   "metadata": {},
   "outputs": [],
   "source": [
    "import pandas as pd\n",
    "import matplotlib.pyplot as plt\n",
    "import seaborn as sns\n",
    "import numpy as np"
   ]
  },
  {
   "cell_type": "code",
   "execution_count": 2,
   "id": "f7561705-c650-46c1-bfb7-1ceba19d1b66",
   "metadata": {},
   "outputs": [
    {
     "data": {
      "text/html": [
       "<div>\n",
       "<style scoped>\n",
       "    .dataframe tbody tr th:only-of-type {\n",
       "        vertical-align: middle;\n",
       "    }\n",
       "\n",
       "    .dataframe tbody tr th {\n",
       "        vertical-align: top;\n",
       "    }\n",
       "\n",
       "    .dataframe thead th {\n",
       "        text-align: right;\n",
       "    }\n",
       "</style>\n",
       "<table border=\"1\" class=\"dataframe\">\n",
       "  <thead>\n",
       "    <tr style=\"text-align: right;\">\n",
       "      <th></th>\n",
       "      <th>NaN</th>\n",
       "      <th>angle</th>\n",
       "      <th>forceps_open</th>\n",
       "      <th>forceps_close</th>\n",
       "      <th>scissors_close</th>\n",
       "      <th>scissors_open</th>\n",
       "      <th>needle_open</th>\n",
       "      <th>needle_close</th>\n",
       "    </tr>\n",
       "  </thead>\n",
       "  <tbody>\n",
       "    <tr>\n",
       "      <th>1</th>\n",
       "      <td>90</td>\n",
       "      <td>0</td>\n",
       "      <td>411</td>\n",
       "      <td>914</td>\n",
       "      <td>936</td>\n",
       "      <td>601</td>\n",
       "      <td>555</td>\n",
       "      <td>906</td>\n",
       "    </tr>\n",
       "    <tr>\n",
       "      <th>2</th>\n",
       "      <td>100</td>\n",
       "      <td>10</td>\n",
       "      <td>418</td>\n",
       "      <td>914</td>\n",
       "      <td>936</td>\n",
       "      <td>604</td>\n",
       "      <td>578</td>\n",
       "      <td>906</td>\n",
       "    </tr>\n",
       "    <tr>\n",
       "      <th>3</th>\n",
       "      <td>110</td>\n",
       "      <td>20</td>\n",
       "      <td>422</td>\n",
       "      <td>913</td>\n",
       "      <td>936</td>\n",
       "      <td>608</td>\n",
       "      <td>590</td>\n",
       "      <td>906</td>\n",
       "    </tr>\n",
       "    <tr>\n",
       "      <th>4</th>\n",
       "      <td>120</td>\n",
       "      <td>30</td>\n",
       "      <td>424</td>\n",
       "      <td>913</td>\n",
       "      <td>936</td>\n",
       "      <td>613</td>\n",
       "      <td>595</td>\n",
       "      <td>906</td>\n",
       "    </tr>\n",
       "    <tr>\n",
       "      <th>5</th>\n",
       "      <td>130</td>\n",
       "      <td>40</td>\n",
       "      <td>425</td>\n",
       "      <td>913</td>\n",
       "      <td>936</td>\n",
       "      <td>618</td>\n",
       "      <td>598</td>\n",
       "      <td>906</td>\n",
       "    </tr>\n",
       "  </tbody>\n",
       "</table>\n",
       "</div>"
      ],
      "text/plain": [
       "0  NaN  angle  forceps_open  forceps_close  scissors_close  scissors_open  \\\n",
       "1   90      0           411            914             936            601   \n",
       "2  100     10           418            914             936            604   \n",
       "3  110     20           422            913             936            608   \n",
       "4  120     30           424            913             936            613   \n",
       "5  130     40           425            913             936            618   \n",
       "\n",
       "0  needle_open  needle_close  \n",
       "1          555           906  \n",
       "2          578           906  \n",
       "3          590           906  \n",
       "4          595           906  \n",
       "5          598           906  "
      ]
     },
     "execution_count": 2,
     "metadata": {},
     "output_type": "execute_result"
    }
   ],
   "source": [
    "df = pd.read_excel(\"twist_test.xlsx\", header=None)\n",
    "# df = df.T\n",
    "df = df.set_index(0).T\n",
    "df.head()"
   ]
  },
  {
   "cell_type": "code",
   "execution_count": 3,
   "id": "1ef580ac-1785-471e-9826-f17525e5c1a5",
   "metadata": {},
   "outputs": [],
   "source": [
    "def arduino_to_voltage(arduino_values):\n",
    "    voltage_FSR = (arduino_values / 1023)*5\n",
    "    return voltage_FSR"
   ]
  },
  {
   "cell_type": "code",
   "execution_count": 4,
   "id": "7d58ddc2-476c-460d-a50e-82138b83e949",
   "metadata": {},
   "outputs": [],
   "source": [
    "weights = [0, 120, 150, 200, 250, 300, 350, 400, 450, 500, 550, 600, 650, 700, 750, 800, 900, 1000]\n",
    "value = [0, 140, 300, 580, 640, 740, 770, 800, 870, 880, 890, 900, 905, 915, 927, 925, 935, 945]\n",
    "normalized_value = [x / 1023 * 5 for x in value]\n",
    "\n",
    "def get_force (yvalues):\n",
    "    x = weights\n",
    "    y = normalized_value\n",
    "    xinterp = np.interp(yvalues, y, x)\n",
    "    \n",
    "    return xinterp"
   ]
  },
  {
   "cell_type": "code",
   "execution_count": 12,
   "id": "09046037-04ba-4c65-8d59-8541c35d22ca",
   "metadata": {},
   "outputs": [],
   "source": [
    "# force_value = [580, 585, 590, 592, 594, 597, 598, 599, 600, 600, 600, 599, 597, 596, 592, 591, 587, 583, 575, 542, 534, 524, 519, 515,511, 510, 508, 508, 509, 512, 514, 518, 523, 530, 532, 560, 579]\n",
    "# angle = [0, 10, 20, 30, 40, 50, 60, 70, 80, 90, 100, 110, 120, 130, 140, 150, 160, 170, 180, 190, 200, 210, 220, 230, 240, 250, 260, 270, 280, 290, 300, 310, 320, 330, 340, 350, 360]\n",
    "\n",
    "\n",
    "# force_value = arduino_to_voltage(force_value)\n",
    "# force_value = get_force(force_value)"
   ]
  },
  {
   "cell_type": "code",
   "execution_count": 6,
   "id": "82067e2e-cda0-4579-bb80-960f07608abe",
   "metadata": {},
   "outputs": [
    {
     "data": {
      "text/plain": [
       "Text(0, 0.5, 'Force')"
      ]
     },
     "execution_count": 6,
     "metadata": {},
     "output_type": "execute_result"
    },
    {
     "data": {
      "image/png": "[encoded data removed]",
      "text/plain": [
       "<Figure size 432x288 with 1 Axes>"
      ]
     },
     "metadata": {
      "needs_background": "light"
     },
     "output_type": "display_data"
    }
   ],
   "source": [
    "plt.plot(angle, force_value)\n",
    "plt.title(\"Scissors\")\n",
    "plt.xlabel(\"Angle\")\n",
    "plt.ylabel(\"Force\")"
   ]
  },
  {
   "cell_type": "code",
   "execution_count": 7,
   "id": "71351207-32fa-4cec-a566-055ab17fe71d",
   "metadata": {},
   "outputs": [],
   "source": [
    "df[\"forceps_open\"] = arduino_to_voltage(df[\"forceps_open\"])\n",
    "df[\"forceps_open\"] = get_force(df[\"forceps_open\"])\n",
    "\n",
    "df[\"forceps_close\"] = arduino_to_voltage(df[\"forceps_close\"])\n",
    "df[\"forceps_close\"] = get_force(df[\"forceps_close\"])\n",
    "\n",
    "df[\"needle_close\"] = arduino_to_voltage(df[\"needle_close\"])\n",
    "df[\"needle_close\"] = get_force(df[\"needle_close\"])\n",
    "\n",
    "df[\"needle_open\"] = arduino_to_voltage(df[\"needle_open\"])\n",
    "df[\"needle_open\"] = get_force(df[\"needle_open\"])\n",
    "\n",
    "df[\"scissors_open\"] = arduino_to_voltage(df[\"scissors_open\"])\n",
    "df[\"scissors_open\"] = get_force(df[\"scissors_open\"])\n",
    "\n",
    "df[\"scissors_close\"] = arduino_to_voltage(df[\"scissors_close\"])\n",
    "df[\"scissors_close\"] = get_force(df[\"scissors_close\"])"
   ]
  },
  {
   "cell_type": "code",
   "execution_count": 8,
   "id": "41c20c7b-f757-46bd-a33d-12b386ce5ef3",
   "metadata": {},
   "outputs": [
    {
     "data": {
      "image/png": "[encoded data removed]",
      "text/plain": [
       "<Figure size 432x288 with 1 Axes>"
      ]
     },
     "metadata": {
      "needs_background": "light"
     },
     "output_type": "display_data"
    }
   ],
   "source": [
    "plt.plot(df[\"angle\"], df[\"forceps_open\"])\n",
    "plt.plot(df[\"angle\"], df[\"forceps_close\"])\n",
    "\n",
    "plt.show()"
   ]
  },
  {
   "cell_type": "code",
   "execution_count": 9,
   "id": "46509389-6184-49b7-b8b2-76b340c5d037",
   "metadata": {},
   "outputs": [
    {
     "data": {
      "image/png": "[encoded data removed]",
      "text/plain": [
       "<Figure size 432x288 with 1 Axes>"
      ]
     },
     "metadata": {
      "needs_background": "light"
     },
     "output_type": "display_data"
    }
   ],
   "source": [
    "plt.plot(df[\"angle\"], df[\"needle_open\"])\n",
    "plt.plot(df[\"angle\"], df[\"needle_close\"])\n",
    "plt.show()"
   ]
  },
  {
   "cell_type": "code",
   "execution_count": 10,
   "id": "711038cb-72f4-42fe-83f1-dcf937fc793a",
   "metadata": {},
   "outputs": [
    {
     "data": {
      "text/plain": [
       "[<matplotlib.lines.Line2D at 0x16e4896df40>]"
      ]
     },
     "execution_count": 10,
     "metadata": {},
     "output_type": "execute_result"
    },
    {
     "data": {
      "image/png": "[encoded data removed]",
      "text/plain": [
       "<Figure size 432x288 with 1 Axes>"
      ]
     },
     "metadata": {
      "needs_background": "light"
     },
     "output_type": "display_data"
    }
   ],
   "source": [
    "plt.plot(df[\"angle\"], df[\"needle_open\"])"
   ]
  },
  {
   "cell_type": "code",
   "execution_count": 11,
   "id": "3d736749-7ad8-43ae-adac-6b163e90efdc",
   "metadata": {},
   "outputs": [
    {
     "data": {
      "image/png": "[encoded data removed]",
      "text/plain": [
       "<Figure size 432x288 with 1 Axes>"
      ]
     },
     "metadata": {
      "needs_background": "light"
     },
     "output_type": "display_data"
    }
   ],
   "source": [
    "plt.plot(df[\"angle\"], df[\"scissors_open\"])\n",
    "plt.plot(df[\"angle\"], df[\"scissors_close\"])\n",
    "plt.show()"
   ]
  },
  {
   "cell_type": "code",
   "execution_count": null,
   "id": "bb9768c8-1c38-4b27-817d-d56461b7e732",
   "metadata": {},
   "outputs": [],
   "source": []
  },
  {
   "cell_type": "code",
   "execution_count": null,
   "id": "1dd3ce85-f197-4fc7-b5d5-037127899aab",
   "metadata": {},
   "outputs": [],
   "source": []
  },
  {
   "cell_type": "code",
   "execution_count": null,
   "id": "3530509e-8ef4-4eb0-80b6-ffbdea405abf",
   "metadata": {},
   "outputs": [],
   "source": []
  }
 ],
 "metadata": {
  "kernelspec": {
   "display_name": "Python 3 (ipykernel)",
   "language": "python",
   "name": "python3"
  },
  "language_info": {
   "codemirror_mode": {
    "name": "ipython",
    "version": 3
   },
   "file_extension": ".py",
   "mimetype": "text/x-python",
   "name": "python",
   "nbconvert_exporter": "python",
   "pygments_lexer": "ipython3",
   "version": "3.9.6"
  }
 },
 "nbformat": 4,
 "nbformat_minor": 5
}
