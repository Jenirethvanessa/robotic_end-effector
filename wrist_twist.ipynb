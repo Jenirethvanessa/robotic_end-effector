{
 "cells": [
  {
   "cell_type": "code",
   "execution_count": 1,
   "id": "c29e3925-4921-4365-b336-0ae281d252f8",
   "metadata": {},
   "outputs": [],
   "source": [
    "import matplotlib.pyplot as plt"
   ]
  },
  {
   "cell_type": "code",
   "execution_count": 2,
   "id": "1ef580ac-1785-471e-9826-f17525e5c1a5",
   "metadata": {},
   "outputs": [],
   "source": [
    "def arduino_to_voltage(arduino_values):\n",
    "    voltage_FSR = (arduino_values / 1023)*5\n",
    "    return voltage_FSR"
   ]
  },
  {
   "cell_type": "code",
   "execution_count": 3,
   "id": "7d58ddc2-476c-460d-a50e-82138b83e949",
   "metadata": {},
   "outputs": [],
   "source": [
    "weights = [0, 120, 150, 200, 250, 300, 350, 400, 450, 500, 550, 600, 650, 700, 750, 800, 900, 1000]\n",
    "value = [0, 140, 300, 580, 640, 740, 770, 800, 870, 880, 890, 900, 905, 915, 927, 925, 935, 945]\n",
    "normalized_value = [x / 1023 * 5 for x in value]\n",
    "\n",
    "def get_force (yvalues):\n",
    "    x = weights\n",
    "    y = normalized_value\n",
    "    xinterp = np.interp(yvalues, y, x)\n",
    "    \n",
    "    return xinterp"
   ]
  },
  {
   "cell_type": "code",
   "execution_count": 5,
   "id": "09046037-04ba-4c65-8d59-8541c35d22ca",
   "metadata": {},
   "outputs": [
    {
     "ename": "TypeError",
     "evalue": "unsupported operand type(s) for /: 'list' and 'int'",
     "output_type": "error",
     "traceback": [
      "\u001b[1;31m---------------------------------------------------------------------------\u001b[0m",
      "\u001b[1;31mTypeError\u001b[0m                                 Traceback (most recent call last)",
      "\u001b[1;32m~\\AppData\\Local\\Temp\\ipykernel_19548\\123447741.py\u001b[0m in \u001b[0;36m<module>\u001b[1;34m\u001b[0m\n\u001b[0;32m      3\u001b[0m \u001b[1;33m\u001b[0m\u001b[0m\n\u001b[0;32m      4\u001b[0m \u001b[1;33m\u001b[0m\u001b[0m\n\u001b[1;32m----> 5\u001b[1;33m \u001b[0mforce_value\u001b[0m \u001b[1;33m=\u001b[0m \u001b[0marduino_to_voltage\u001b[0m\u001b[1;33m(\u001b[0m\u001b[0mforce_value\u001b[0m\u001b[1;33m)\u001b[0m\u001b[1;33m\u001b[0m\u001b[1;33m\u001b[0m\u001b[0m\n\u001b[0m\u001b[0;32m      6\u001b[0m \u001b[0mforce_value\u001b[0m \u001b[1;33m=\u001b[0m \u001b[0mget_force\u001b[0m\u001b[1;33m(\u001b[0m\u001b[0mforce_value\u001b[0m\u001b[1;33m)\u001b[0m\u001b[1;33m\u001b[0m\u001b[1;33m\u001b[0m\u001b[0m\n",
      "\u001b[1;32m~\\AppData\\Local\\Temp\\ipykernel_19548\\2167408717.py\u001b[0m in \u001b[0;36marduino_to_voltage\u001b[1;34m(arduino_values)\u001b[0m\n\u001b[0;32m      1\u001b[0m \u001b[1;32mdef\u001b[0m \u001b[0marduino_to_voltage\u001b[0m\u001b[1;33m(\u001b[0m\u001b[0marduino_values\u001b[0m\u001b[1;33m)\u001b[0m\u001b[1;33m:\u001b[0m\u001b[1;33m\u001b[0m\u001b[1;33m\u001b[0m\u001b[0m\n\u001b[1;32m----> 2\u001b[1;33m     \u001b[0mvoltage_FSR\u001b[0m \u001b[1;33m=\u001b[0m \u001b[1;33m(\u001b[0m\u001b[0marduino_values\u001b[0m \u001b[1;33m/\u001b[0m \u001b[1;36m1023\u001b[0m\u001b[1;33m)\u001b[0m\u001b[1;33m*\u001b[0m\u001b[1;36m5\u001b[0m\u001b[1;33m\u001b[0m\u001b[1;33m\u001b[0m\u001b[0m\n\u001b[0m\u001b[0;32m      3\u001b[0m     \u001b[1;32mreturn\u001b[0m \u001b[0mvoltage_FSR\u001b[0m\u001b[1;33m\u001b[0m\u001b[1;33m\u001b[0m\u001b[0m\n",
      "\u001b[1;31mTypeError\u001b[0m: unsupported operand type(s) for /: 'list' and 'int'"
     ]
    }
   ],
   "source": [
    "force_value = [580, 585, 590, 592, 594, 597, 598, 599, 600, 600, 600, 599, 597, 596, 592, 591, 587, 583, 575, 542, 534, 524, 519, 515,511, 510, 508, 508, 509, 512, 514, 518, 523, 530, 532, 560, 579]\n",
    "angle = [0, 10, 20, 30, 40, 50, 60, 70, 80, 90, 100, 110, 120, 130, 140, 150, 160, 170, 180, 190, 200, 210, 220, 230, 240, 250, 260, 270, 280, 290, 300, 310, 320, 330, 340, 350, 360]\n",
    "\n",
    "\n",
    "force_value = arduino_to_voltage(force_value)\n",
    "force_value = get_force(force_value)"
   ]
  },
  {
   "cell_type": "code",
   "execution_count": 6,
   "id": "82067e2e-cda0-4579-bb80-960f07608abe",
   "metadata": {},
   "outputs": [
    {
     "data": {
      "text/plain": [
       "Text(0, 0.5, 'Force')"
      ]
     },
     "execution_count": 6,
     "metadata": {},
     "output_type": "execute_result"
    },
    {
     "data": {
      "image/png": "[encoded data removed]",
      "text/plain": [
       "<Figure size 432x288 with 1 Axes>"
      ]
     },
     "metadata": {
      "needs_background": "light"
     },
     "output_type": "display_data"
    }
   ],
   "source": [
    "plt.plot(angle, force_value)\n",
    "plt.title(\"Scissors\")\n",
    "plt.xlabel(\"Angle\")\n",
    "plt.ylabel(\"Force\")"
   ]
  },
  {
   "cell_type": "code",
   "execution_count": null,
   "id": "41c20c7b-f757-46bd-a33d-12b386ce5ef3",
   "metadata": {},
   "outputs": [],
   "source": []
  }
 ],
 "metadata": {
  "kernelspec": {
   "display_name": "Python 3 (ipykernel)",
   "language": "python",
   "name": "python3"
  },
  "language_info": {
   "codemirror_mode": {
    "name": "ipython",
    "version": 3
   },
   "file_extension": ".py",
   "mimetype": "text/x-python",
   "name": "python",
   "nbconvert_exporter": "python",
   "pygments_lexer": "ipython3",
   "version": "3.9.6"
  }
 },
 "nbformat": 4,
 "nbformat_minor": 5
}
