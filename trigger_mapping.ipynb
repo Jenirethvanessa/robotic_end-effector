{
 "cells": [
  {
   "cell_type": "code",
   "execution_count": 1,
   "id": "094df3e2-cb5c-4355-af48-9244c7c9c5f9",
   "metadata": {},
   "outputs": [],
   "source": [
    "import numpy as np\n",
    "import matplotlib.pyplot as plt"
   ]
  },
  {
   "cell_type": "code",
   "execution_count": 2,
   "id": "5d3d152a-d646-445f-ac43-0f14edba6fe7",
   "metadata": {},
   "outputs": [],
   "source": [
    "slider = [935.0, 743.0, 591.0, 412.0, 271.0]\n",
    "distance = [30, 21.5, 15, 7.5, 1]\n",
    "\n",
    "def distance_to_mm (yvalues):\n",
    "    x = distance[::-1]\n",
    "    y = slider[::-1]\n",
    "    xinterp = np.interp(yvalues, y, x)\n",
    "    \n",
    "    return xinterp"
   ]
  },
  {
   "cell_type": "code",
   "execution_count": 7,
   "id": "2ab7d231-7b66-4d3d-9e25-8da793a47405",
   "metadata": {},
   "outputs": [],
   "source": [
    "xbox_trigger = [100,90,80,70,60,50,40,30,20,10, 0]\n",
    "slider_values = [465, 439, 414, 407, 400, 388, 377, 366, 362, 358, 357][::-1]"
   ]
  },
  {
   "cell_type": "code",
   "execution_count": 8,
   "id": "54d90607-67c1-4de9-9f43-f04eb25885d8",
   "metadata": {},
   "outputs": [
    {
     "data": {
      "text/plain": [
       "array([4.96453901, 5.0106383 , 5.19503546, 5.37943262, 5.88652482,\n",
       "       6.39361702, 6.94680851, 7.26950355, 7.58379888, 8.63128492,\n",
       "       9.72067039])"
      ]
     },
     "execution_count": 8,
     "metadata": {},
     "output_type": "execute_result"
    }
   ],
   "source": [
    "final_values = distance_to_mm(slider_values)\n",
    "final_values"
   ]
  },
  {
   "cell_type": "code",
   "execution_count": 11,
   "id": "282fa148-a3c9-4a57-bb06-eba047d4582b",
   "metadata": {},
   "outputs": [
    {
     "data": {
      "text/plain": [
       "Text(0, 0.5, 'Distance Jaws (mm)')"
      ]
     },
     "execution_count": 11,
     "metadata": {},
     "output_type": "execute_result"
    },
    {
     "data": {
      "image/png": "[encoded data removed]",
      "text/plain": [
       "<Figure size 432x288 with 1 Axes>"
      ]
     },
     "metadata": {
      "needs_background": "light"
     },
     "output_type": "display_data"
    }
   ],
   "source": [
    "plt.plot(xbox_trigger,final_values, linestyle = \"--\")\n",
    "plt.scatter(xbox_trigger,final_values)\n",
    "plt.xlabel(\"Pressed range (%)\", fontsize=\"16\")\n",
    "plt.ylabel(\"Distance Jaws (mm)\", fontsize=\"16\")"
   ]
  },
  {
   "cell_type": "code",
   "execution_count": null,
   "id": "eaccdd51-e3d1-4c09-a397-1e36408c8f34",
   "metadata": {},
   "outputs": [],
   "source": []
  }
 ],
 "metadata": {
  "kernelspec": {
   "display_name": "Python 3 (ipykernel)",
   "language": "python",
   "name": "python3"
  },
  "language_info": {
   "codemirror_mode": {
    "name": "ipython",
    "version": 3
   },
   "file_extension": ".py",
   "mimetype": "text/x-python",
   "name": "python",
   "nbconvert_exporter": "python",
   "pygments_lexer": "ipython3",
   "version": "3.9.6"
  }
 },
 "nbformat": 4,
 "nbformat_minor": 5
}
