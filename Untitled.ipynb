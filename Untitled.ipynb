{
 "cells": [
  {
   "cell_type": "code",
   "execution_count": 13,
   "id": "71275a85-4e04-4ffc-b2d1-c794136cf699",
   "metadata": {},
   "outputs": [],
   "source": [
    "import pandas as pd"
   ]
  },
  {
   "cell_type": "code",
   "execution_count": 14,
   "id": "90d57653-fe39-43d4-aba2-4056a5d19388",
   "metadata": {},
   "outputs": [],
   "source": [
    "time = pd.read_csv(\"person_test_exp_1_trial_1_time.csv\", header=None, names=[\"time\"])"
   ]
  },
  {
   "cell_type": "code",
   "execution_count": 15,
   "id": "2880d7ee-649d-4c76-80c9-1569a511c210",
   "metadata": {},
   "outputs": [
    {
     "name": "stdout",
     "output_type": "stream",
     "text": [
      "                         time\n",
      "0  2023-08-10 10:54:19.430073\n",
      "1  2023-08-10 10:54:20.293978\n",
      "2  2023-08-10 10:54:21.234565\n",
      "3  2023-08-10 10:54:22.234470\n",
      "4  2023-08-10 10:54:23.073068\n",
      "5  2023-08-10 10:54:23.910486\n",
      "6  2023-08-10 10:54:24.747003\n",
      "7  2023-08-10 10:54:25.311675\n",
      "8  2023-08-10 10:54:25.841453\n"
     ]
    }
   ],
   "source": [
    "print(time)"
   ]
  },
  {
   "cell_type": "code",
   "execution_count": null,
   "id": "dd91e8f3-e478-421a-9055-f9f47e25beb6",
   "metadata": {},
   "outputs": [],
   "source": []
  }
 ],
 "metadata": {
  "kernelspec": {
   "display_name": "Python 3 (ipykernel)",
   "language": "python",
   "name": "python3"
  },
  "language_info": {
   "codemirror_mode": {
    "name": "ipython",
    "version": 3
   },
   "file_extension": ".py",
   "mimetype": "text/x-python",
   "name": "python",
   "nbconvert_exporter": "python",
   "pygments_lexer": "ipython3",
   "version": "3.9.6"
  }
 },
 "nbformat": 4,
 "nbformat_minor": 5
}
