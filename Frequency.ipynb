{
 "cells": [
  {
   "cell_type": "code",
   "execution_count": 3,
   "id": "76bfd136-7378-4d72-83c0-944f057c2293",
   "metadata": {},
   "outputs": [],
   "source": [
    "import pandas as pd\n",
    "import matplotlib.pyplot as plt\n",
    "import numpy as np"
   ]
  },
  {
   "cell_type": "code",
   "execution_count": 4,
   "id": "72983783-cde2-4b92-842b-7144c42c35d6",
   "metadata": {},
   "outputs": [],
   "source": [
    "# Import frequency data\n",
    "frequency_data = pd.read_csv(\"frequency_exp_1_trial_1.csv\", encoding=\"latin\", header=None, names=[\"time\", \"trigger\", \"position\", \"force\"])"
   ]
  },
  {
   "cell_type": "code",
   "execution_count": 5,
   "id": "47e1bd0f-dccf-4751-b235-3559d4358bd3",
   "metadata": {},
   "outputs": [
    {
     "data": {
      "text/html": [
       "<div>\n",
       "<style scoped>\n",
       "    .dataframe tbody tr th:only-of-type {\n",
       "        vertical-align: middle;\n",
       "    }\n",
       "\n",
       "    .dataframe tbody tr th {\n",
       "        vertical-align: top;\n",
       "    }\n",
       "\n",
       "    .dataframe thead th {\n",
       "        text-align: right;\n",
       "    }\n",
       "</style>\n",
       "<table border=\"1\" class=\"dataframe\">\n",
       "  <thead>\n",
       "    <tr style=\"text-align: right;\">\n",
       "      <th></th>\n",
       "      <th>time</th>\n",
       "      <th>trigger</th>\n",
       "      <th>position</th>\n",
       "      <th>force</th>\n",
       "    </tr>\n",
       "  </thead>\n",
       "  <tbody>\n",
       "    <tr>\n",
       "      <th>0</th>\n",
       "      <td>13.954373</td>\n",
       "      <td>9.0</td>\n",
       "      <td>436</td>\n",
       "      <td>498</td>\n",
       "    </tr>\n",
       "    <tr>\n",
       "      <th>1</th>\n",
       "      <td>13.954373</td>\n",
       "      <td>9.0</td>\n",
       "      <td>436</td>\n",
       "      <td>499</td>\n",
       "    </tr>\n",
       "    <tr>\n",
       "      <th>2</th>\n",
       "      <td>13.970212</td>\n",
       "      <td>9.0</td>\n",
       "      <td>436</td>\n",
       "      <td>499</td>\n",
       "    </tr>\n",
       "    <tr>\n",
       "      <th>3</th>\n",
       "      <td>13.970212</td>\n",
       "      <td>9.0</td>\n",
       "      <td>436</td>\n",
       "      <td>499</td>\n",
       "    </tr>\n",
       "    <tr>\n",
       "      <th>4</th>\n",
       "      <td>13.986287</td>\n",
       "      <td>9.0</td>\n",
       "      <td>436</td>\n",
       "      <td>500</td>\n",
       "    </tr>\n",
       "    <tr>\n",
       "      <th>...</th>\n",
       "      <td>...</td>\n",
       "      <td>...</td>\n",
       "      <td>...</td>\n",
       "      <td>...</td>\n",
       "    </tr>\n",
       "    <tr>\n",
       "      <th>2561</th>\n",
       "      <td>35.258985</td>\n",
       "      <td>7.0</td>\n",
       "      <td>353</td>\n",
       "      <td>832</td>\n",
       "    </tr>\n",
       "    <tr>\n",
       "      <th>2562</th>\n",
       "      <td>35.274151</td>\n",
       "      <td>8.0</td>\n",
       "      <td>357</td>\n",
       "      <td>828</td>\n",
       "    </tr>\n",
       "    <tr>\n",
       "      <th>2563</th>\n",
       "      <td>35.275072</td>\n",
       "      <td>8.0</td>\n",
       "      <td>360</td>\n",
       "      <td>825</td>\n",
       "    </tr>\n",
       "    <tr>\n",
       "      <th>2564</th>\n",
       "      <td>35.290520</td>\n",
       "      <td>8.0</td>\n",
       "      <td>363</td>\n",
       "      <td>817</td>\n",
       "    </tr>\n",
       "    <tr>\n",
       "      <th>2565</th>\n",
       "      <td>35.290520</td>\n",
       "      <td>8.0</td>\n",
       "      <td>367</td>\n",
       "      <td>805</td>\n",
       "    </tr>\n",
       "  </tbody>\n",
       "</table>\n",
       "<p>2566 rows × 4 columns</p>\n",
       "</div>"
      ],
      "text/plain": [
       "           time  trigger  position  force\n",
       "0     13.954373      9.0       436    498\n",
       "1     13.954373      9.0       436    499\n",
       "2     13.970212      9.0       436    499\n",
       "3     13.970212      9.0       436    499\n",
       "4     13.986287      9.0       436    500\n",
       "...         ...      ...       ...    ...\n",
       "2561  35.258985      7.0       353    832\n",
       "2562  35.274151      8.0       357    828\n",
       "2563  35.275072      8.0       360    825\n",
       "2564  35.290520      8.0       363    817\n",
       "2565  35.290520      8.0       367    805\n",
       "\n",
       "[2566 rows x 4 columns]"
      ]
     },
     "execution_count": 5,
     "metadata": {},
     "output_type": "execute_result"
    }
   ],
   "source": [
    "frequency_data"
   ]
  },
  {
   "cell_type": "code",
   "execution_count": 6,
   "id": "a7bc3181-512d-4130-b492-b999a6444ed4",
   "metadata": {},
   "outputs": [],
   "source": [
    "frequency_data['time_difference'] = frequency_data['time'].diff()"
   ]
  },
  {
   "cell_type": "code",
   "execution_count": 7,
   "id": "02f9d23b-b0e1-47f8-8901-cbaf2e657ece",
   "metadata": {},
   "outputs": [
    {
     "name": "stdout",
     "output_type": "stream",
     "text": [
      "Average time to receive signal: 0.00831818596491228 seconds and frequency: 120.21851930435237Hz\n"
     ]
    }
   ],
   "source": [
    "mean_time = frequency_data['time_difference'].sum()/2565\n",
    "frequency = 1 / mean_time\n",
    "print(f\"Average time to receive signal: {mean_time} seconds and frequency: {frequency}Hz\")"
   ]
  },
  {
   "cell_type": "code",
   "execution_count": null,
   "id": "442c9099-da7d-440c-b2ce-8701b7afcdb9",
   "metadata": {},
   "outputs": [],
   "source": []
  },
  {
   "cell_type": "code",
   "execution_count": null,
   "id": "fa03ca0b-bf50-4f30-8de3-4bf604b9e2b2",
   "metadata": {},
   "outputs": [],
   "source": []
  }
 ],
 "metadata": {
  "kernelspec": {
   "display_name": "Python 3 (ipykernel)",
   "language": "python",
   "name": "python3"
  },
  "language_info": {
   "codemirror_mode": {
    "name": "ipython",
    "version": 3
   },
   "file_extension": ".py",
   "mimetype": "text/x-python",
   "name": "python",
   "nbconvert_exporter": "python",
   "pygments_lexer": "ipython3",
   "version": "3.9.6"
  }
 },
 "nbformat": 4,
 "nbformat_minor": 5
}
